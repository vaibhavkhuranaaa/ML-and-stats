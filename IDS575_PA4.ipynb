{
  "cells": [
    {
      "cell_type": "markdown",
      "metadata": {
        "id": "S-8L4loVFNnG"
      },
      "source": [
        "##IDS 575: ML and Statistical Methods\n",
        "\n",
        "Programming Assignment 4: SVMs\n",
        "\n",
        "October 24th, 2023\n",
        "\n",
        "Group Members:\n",
        "Vaibhav Khurana,\n",
        "Ayesha Anjum,\n",
        "Mahsa Merikhipor,\n"
      ]
    },
    {
      "cell_type": "markdown",
      "metadata": {
        "id": "LG3j9NN-FNnJ"
      },
      "source": [
        "A. Loading the test, train data as dataframes.\n",
        "A.1: Convert from sparse matrices to dfs"
      ]
    },
    {
      "cell_type": "code",
      "execution_count": 2,
      "metadata": {
        "id": "OZNyUta9FNnJ"
      },
      "outputs": [],
      "source": [
        "from sklearn.datasets import load_svmlight_file\n",
        "import pandas as pd\n",
        "\n",
        "words = pd.read_csv('words.map.txt')\n",
        "\n",
        "def load_data_svmlight(file_path, total_features):\n",
        "    # Loading the file with load_svmlight_file\n",
        "    X, y = load_svmlight_file(file_path, n_features=total_features)  # Explicitly specify the number of features\n",
        "\n",
        "    # Converting the sparse matrices to dense\n",
        "    X_dense = X.toarray()\n",
        "\n",
        "    # At this point, X_dense should have the same number of columns as `total_features`.\n",
        "    # If not, or to ensure consistency, you could perform a resizing operation. However,\n",
        "    # since we've used 'n_features' in 'load_svmlight_file', this step might be redundant.\n",
        "\n",
        "    # Creating DataFrames for the features and the target\n",
        "    X_df = pd.DataFrame(X_dense)\n",
        "    y_df = pd.DataFrame(y, columns=['class_label'])\n",
        "\n",
        "    # Concatenating the features and the target into one DataFrame\n",
        "    df = pd.concat([X_df, y_df], axis=1)\n",
        "\n",
        "    return df\n",
        "\n",
        "total_features = words.shape[0]\n",
        "\n",
        "# Loading the data\n",
        "training_df = load_data_svmlight('articles.train', total_features)\n",
        "test_df = load_data_svmlight('articles.test', total_features)\n"
      ]
    },
    {
      "cell_type": "markdown",
      "metadata": {
        "id": "Q1ese9FcFNnK"
      },
      "source": [
        "A.2: Verify the integrity of the data"
      ]
    },
    {
      "cell_type": "code",
      "execution_count": 3,
      "metadata": {
        "id": "1aqOZYqVFNnL",
        "outputId": "5acfe680-051a-459d-995a-22779a32cabb"
      },
      "outputs": [
        {
          "name": "stdout",
          "output_type": "stream",
          "text": [
            "Training Data Shape: (4000, 61188)\n",
            "Test Data Shape: (2400, 61188)\n",
            "Text File Shape: (61187, 1)\n",
            "Any null values in training data? False\n",
            "Any null values in test data? False\n",
            "0              float64\n",
            "1              float64\n",
            "2              float64\n",
            "3              float64\n",
            "4              float64\n",
            "                ...   \n",
            "61183          float64\n",
            "61184          float64\n",
            "61185          float64\n",
            "61186          float64\n",
            "class_label    float64\n",
            "Length: 61188, dtype: object\n",
            "                 0            1       2            3           4            5  \\\n",
            "count  4000.000000  4000.000000  4000.0  4000.000000  4000.00000  4000.000000   \n",
            "mean      0.022250     0.155750     0.0     0.028250     0.01475     0.220750   \n",
            "std       0.313496     1.024819     0.0     0.549115     0.16595     0.656222   \n",
            "min       0.000000     0.000000     0.0     0.000000     0.00000     0.000000   \n",
            "25%       0.000000     0.000000     0.0     0.000000     0.00000     0.000000   \n",
            "50%       0.000000     0.000000     0.0     0.000000     0.00000     0.000000   \n",
            "75%       0.000000     0.000000     0.0     0.000000     0.00000     0.000000   \n",
            "max      11.000000    30.000000     0.0    26.000000     5.00000     9.000000   \n",
            "\n",
            "                 6            7            8            9  ...   61178  \\\n",
            "count  4000.000000  4000.000000  4000.000000  4000.000000  ...  4000.0   \n",
            "mean      0.011500     0.010750     0.098750     0.000250  ...     0.0   \n",
            "std       0.140971     0.136525     1.051558     0.015811  ...     0.0   \n",
            "min       0.000000     0.000000     0.000000     0.000000  ...     0.0   \n",
            "25%       0.000000     0.000000     0.000000     0.000000  ...     0.0   \n",
            "50%       0.000000     0.000000     0.000000     0.000000  ...     0.0   \n",
            "75%       0.000000     0.000000     0.000000     0.000000  ...     0.0   \n",
            "max       3.000000     4.000000    42.000000     1.000000  ...     0.0   \n",
            "\n",
            "        61179   61180   61181   61182   61183   61184   61185   61186  \\\n",
            "count  4000.0  4000.0  4000.0  4000.0  4000.0  4000.0  4000.0  4000.0   \n",
            "mean      0.0     0.0     0.0     0.0     0.0     0.0     0.0     0.0   \n",
            "std       0.0     0.0     0.0     0.0     0.0     0.0     0.0     0.0   \n",
            "min       0.0     0.0     0.0     0.0     0.0     0.0     0.0     0.0   \n",
            "25%       0.0     0.0     0.0     0.0     0.0     0.0     0.0     0.0   \n",
            "50%       0.0     0.0     0.0     0.0     0.0     0.0     0.0     0.0   \n",
            "75%       0.0     0.0     0.0     0.0     0.0     0.0     0.0     0.0   \n",
            "max       0.0     0.0     0.0     0.0     0.0     0.0     0.0     0.0   \n",
            "\n",
            "       class_label  \n",
            "count  4000.000000  \n",
            "mean      2.500000  \n",
            "std       1.118174  \n",
            "min       1.000000  \n",
            "25%       1.750000  \n",
            "50%       2.500000  \n",
            "75%       3.250000  \n",
            "max       4.000000  \n",
            "\n",
            "[8 rows x 61188 columns]\n",
            "Unique class labels: [1. 2. 3. 4.]\n"
          ]
        }
      ],
      "source": [
        "print('Training Data Shape:', training_df.shape)\n",
        "print('Test Data Shape:', test_df.shape)\n",
        "print('Text File Shape:', words.shape)\n",
        "\n",
        "print('Any null values in training data?', training_df.isnull().values.any())\n",
        "print('Any null values in test data?', test_df.isnull().values.any())\n",
        "\n",
        "# Check data types\n",
        "print(training_df.dtypes)\n",
        "\n",
        "# Summary statistics for the training data, which will include min/max/count for each column.\n",
        "# This is a way to quickly verify that each feature column is within expected bounds.\n",
        "print(training_df.describe())\n",
        "\n",
        "# Check that class labels are as expected\n",
        "unique_labels = training_df['class_label'].unique()\n",
        "print('Unique class labels:', unique_labels)\n",
        "assert set(unique_labels) <= {1, 2, 3, 4}, \"Unexpected class label found!\"\n"
      ]
    },
    {
      "cell_type": "markdown",
      "metadata": {
        "id": "-hlBo1EmFNnL"
      },
      "source": [
        "B. Hard-Margin Classifiers.\n",
        "B.1: Seperate the features and the labels."
      ]
    },
    {
      "cell_type": "code",
      "execution_count": 4,
      "metadata": {
        "id": "RhLhzb-FFNnL"
      },
      "outputs": [],
      "source": [
        "import numpy as np\n",
        "from sklearn import svm\n",
        "from sklearn.metrics import accuracy_score\n",
        "\n",
        "\n",
        "X_train = training_df.drop('class_label', axis=1)\n",
        "y_train = training_df['class_label']\n",
        "\n",
        "X_test = test_df.drop('class_label', axis=1)\n",
        "y_test = test_df['class_label']\n"
      ]
    },
    {
      "cell_type": "markdown",
      "metadata": {
        "id": "OwqxhiCrFNnM"
      },
      "source": [
        "B.2: Re-Label and train the SVM."
      ]
    },
    {
      "cell_type": "code",
      "execution_count": 5,
      "metadata": {
        "id": "idz_XXuOFNnM"
      },
      "outputs": [],
      "source": [
        "from joblib import Parallel, delayed\n",
        "\n",
        "# Convert features and labels to NumPy arrays for efficiency.\n",
        "X_train_array = X_train.values\n",
        "y_train_array = y_train.values\n",
        "X_test_array = X_test.values\n",
        "y_test_array = y_test.values\n"
      ]
    },
    {
      "cell_type": "code",
      "execution_count": 6,
      "metadata": {
        "id": "ucN_PsxNFNnM"
      },
      "outputs": [
        {
          "name": "stdout",
          "output_type": "stream",
          "text": [
            "Training error: 0.0\n",
            "Test error: 0.0970833333333333\n",
            "Classifier 1 - Training error: 0.0, Test error: 0.04208333333333336\n",
            "Classifier 2 - Training error: 0.0, Test error: 0.0658333333333333\n",
            "Classifier 3 - Training error: 0.0, Test error: 0.050833333333333286\n",
            "Classifier 4 - Training error: 0.0, Test error: 0.0591666666666667\n"
          ]
        }
      ],
      "source": [
        "\n",
        "def train_classifier(i, X_train, y_train):\n",
        "    \"\"\"\n",
        "    Function to train a single binary classifier.\n",
        "    \"\"\"\n",
        "    # New model instance; don't reuse instances across different classes\n",
        "    svm_model = svm.SVC(kernel='linear', C=10000, max_iter=10000)  # Large C for hard margin\n",
        "\n",
        "    # Create the new binary target\n",
        "    binary_target = np.where(y_train == i, 1, -1)  # More efficient than apply with a lambda function\n",
        "\n",
        "    # Train the model\n",
        "    svm_model.fit(X_train, binary_target)\n",
        "\n",
        "    return svm_model\n",
        "\n",
        "# Parallel training of models\n",
        "classifiers = Parallel(n_jobs=-1)(delayed(train_classifier)(i, X_train_array, y_train_array) for i in range(1, 5))\n",
        "\n",
        "def classify_point(point):\n",
        "    \"\"\"\n",
        "    Function to classify a single point using all classifiers.\n",
        "    \"\"\"\n",
        "    scores = [clf.decision_function([point]) for clf in classifiers]\n",
        "    class_label = np.argmax(scores) + 1  # +1 because classes are 1 through 4\n",
        "    return class_label\n",
        "\n",
        "# Efficient parallel predictions and evaluations\n",
        "y_pred_train = np.apply_along_axis(classify_point, 1, X_train_array)  # Replaces inefficient Pandas apply\n",
        "y_pred_test = np.apply_along_axis(classify_point, 1, X_test_array)\n",
        "\n",
        "train_error = 1 - accuracy_score(y_train_array, y_pred_train)\n",
        "test_error = 1 - accuracy_score(y_test_array, y_pred_test)\n",
        "\n",
        "print(f\"Training error: {train_error}\")\n",
        "print(f\"Test error: {test_error}\")\n",
        "\n",
        "# Loop for individual errors is fine; not much optimization needed here as it's not the bottleneck\n",
        "for i, clf in enumerate(classifiers, 1):\n",
        "    train_preds = clf.predict(X_train_array)\n",
        "    test_preds = clf.predict(X_test_array)\n",
        "\n",
        "    # Adjusting labels for the current class being the positive class\n",
        "    adjusted_y_train = np.where(y_train_array == i, 1, -1)\n",
        "    adjusted_y_test = np.where(y_test_array == i, 1, -1)\n",
        "\n",
        "    individual_train_error = 1 - accuracy_score(adjusted_y_train, train_preds)\n",
        "    individual_test_error = 1 - accuracy_score(adjusted_y_test, test_preds)\n",
        "\n",
        "    print(f\"Classifier {i} - Training error: {individual_train_error}, Test error: {individual_test_error}\")\n"
      ]
    },
    {
      "cell_type": "markdown",
      "metadata": {
        "id": "-_F_vb1JFNnN"
      },
      "source": [
        "C. Soft-Margin Classifiers, We similarly create soft margin classifiers to determine the best C value"
      ]
    },
    {
      "cell_type": "code",
      "execution_count": 7,
      "metadata": {
        "id": "CXpQcA2_FNnN",
        "outputId": "8f1263ae-0bd6-4309-ad9d-aca9da361c96"
      },
      "outputs": [
        {
          "data": {
            "image/png": "[encoded data removed]",
            "text/plain": [
              "<Figure size 1000x600 with 1 Axes>"
            ]
          },
          "metadata": {},
          "output_type": "display_data"
        },
        {
          "name": "stdout",
          "output_type": "stream",
          "text": [
            "Best C value: 0.125\n"
          ]
        }
      ],
      "source": [
        "from sklearn.svm import LinearSVC\n",
        "from sklearn.model_selection import train_test_split\n",
        "import matplotlib.pyplot as plt\n",
        "\n",
        "\n",
        "# Convert features and labels to NumPy arrays for efficiency\n",
        "features = training_df.drop('class_label', axis=1).values\n",
        "labels = training_df['class_label'].values\n",
        "\n",
        "# Split the data\n",
        "features_train, features_val, labels_train, labels_val = train_test_split(features, labels, test_size=0.25, random_state=42)\n",
        "\n",
        "def train_evaluate_model(C_value):\n",
        "    training_errors = []\n",
        "    validation_errors = []\n",
        "\n",
        "    classifiers = []\n",
        "    for class_label in range(1, 5):  # Classes 1 through 4\n",
        "        # Prepare binary labels\n",
        "        binary_labels_train = (labels_train == class_label).astype(int)\n",
        "        binary_labels_train[binary_labels_train == 0] = -1  # Set 'non-class' labels to -1\n",
        "\n",
        "        # Train the model with LinearSVC (more efficient on large datasets)\n",
        "        model = LinearSVC(dual=False, C=C_value, max_iter=10000)  # dual=False when n_samples > n_features.\n",
        "        model.fit(features_train, binary_labels_train)\n",
        "        classifiers.append(model)\n",
        "\n",
        "    # Make predictions on the training set and calculate error\n",
        "    predictions_train = np.array([model.decision_function(features_train) for model in classifiers]).argmax(axis=0)\n",
        "    train_error = 1 - accuracy_score(labels_train, predictions_train + 1)  # +1 to match class labels\n",
        "    training_errors.append(train_error)\n",
        "\n",
        "    # Make predictions on the validation set and calculate error\n",
        "    predictions_val = np.array([model.decision_function(features_val) for model in classifiers]).argmax(axis=0)\n",
        "    validation_error = 1 - accuracy_score(labels_val, predictions_val + 1)  # +1 to match class labels\n",
        "    validation_errors.append(validation_error)\n",
        "\n",
        "    return train_error, validation_error\n",
        "\n",
        "C_values = [2**i for i in range(-3, 10)]  # List of C values\n",
        "\n",
        "# Parallel training and evaluation for different C values\n",
        "results = Parallel(n_jobs=-1)(delayed(train_evaluate_model)(C) for C in C_values)\n",
        "\n",
        "# Extracting training and validation errors\n",
        "training_errors, validation_errors = zip(*results)\n",
        "\n",
        "# Identifying the best C\n",
        "best_C_index = np.argmin(validation_errors)\n",
        "best_C_value = C_values[best_C_index]\n",
        "\n",
        "# Plotting\n",
        "plt.figure(figsize=(10, 6))\n",
        "plt.plot(np.log2(C_values), training_errors, marker='o', label='Training Error')\n",
        "plt.plot(np.log2(C_values), validation_errors, marker='x', label='Validation Error')\n",
        "plt.title('Error rates with varying C')\n",
        "plt.xlabel('log2(C)')\n",
        "plt.ylabel('Error rate')\n",
        "plt.legend()\n",
        "plt.grid(True)\n",
        "plt.xticks(np.log2(C_values))\n",
        "\n",
        "plt.show()\n",
        "\n",
        "print(f\"Best C value: {best_C_value}\")\n"
      ]
    },
    {
      "cell_type": "markdown",
      "metadata": {
        "id": "_cER9csRFNnN"
      },
      "source": [
        "D. Soft-Margin Classifiers using entire training dataset and the best C-value."
      ]
    },
    {
      "cell_type": "code",
      "execution_count": 9,
      "metadata": {
        "id": "lOl6TmZYFNnN",
        "outputId": "4cc7dca8-f169-4888-c261-ffa0541de0e5"
      },
      "outputs": [
        {
          "name": "stdout",
          "output_type": "stream",
          "text": [
            "Training classifier for class 1...\n",
            "Classifier 1 Training Error: 0.00024999999999997247\n",
            "Training classifier for class 2...\n",
            "Classifier 2 Training Error: 0.0010000000000000009\n",
            "Training classifier for class 3...\n",
            "Classifier 3 Training Error: 0.0007500000000000284\n",
            "Training classifier for class 4...\n",
            "Classifier 4 Training Error: 0.00024999999999997247\n"
          ]
        }
      ],
      "source": [
        "\n",
        "# 'best_C_value' and data arrays already defined\n",
        "best_C_value = 0.125\n",
        "\n",
        "# Initialize an array to store your classifiers\n",
        "classifiers = []\n",
        "\n",
        "# Train a binary classifier for each class\n",
        "for i in range(1, 5):  # Assuming classes are labeled 1 through 4\n",
        "    print(f\"Training classifier for class {i}...\")\n",
        "\n",
        "    # Adjust the labels for binary classification\n",
        "    binary_target = np.where(y_train_array == i, 1, -1)\n",
        "\n",
        "    # Create a new SVM classifier\n",
        "    svm_model = svm.SVC(kernel='linear', C=best_C_value)\n",
        "\n",
        "    # Train the classifier on the entire training data\n",
        "    svm_model.fit(X_train_array, binary_target)\n",
        "\n",
        "    # Save the trained classifier\n",
        "    classifiers.append(svm_model)\n",
        "\n",
        "    # Predict on the training set itself\n",
        "    y_train_pred = svm_model.predict(X_train_array)\n",
        "\n",
        "    # Calculate the error rate on the training data\n",
        "    error = 1 - accuracy_score(binary_target, y_train_pred)\n",
        "\n",
        "    # Print error for each classifier\n",
        "    print(f\"Classifier {i} Training Error: {error}\")\n",
        "\n",
        "\n"
      ]
    },
    {
      "cell_type": "markdown",
      "metadata": {
        "id": "kHkzdI54FNnO"
      },
      "source": [
        "E. Normalize the feature vectors and repeat part c"
      ]
    },
    {
      "cell_type": "code",
      "execution_count": null,
      "metadata": {
        "id": "oCI8qv6FFNnO",
        "outputId": "b160c410-08d0-49ed-8570-c9c09b73f6aa"
      },
      "outputs": [
        {
          "name": "stdout",
          "output_type": "stream",
          "text": [
            "Classifier 1 Validation Error: 0.09399999999999997\n",
            "Classifier 2 Validation Error: 0.236\n",
            "Classifier 3 Validation Error: 0.09799999999999998\n",
            "Classifier 4 Validation Error: 0.11099999999999999\n"
          ]
        }
      ],
      "source": [
        "from sklearn import svm, preprocessing\n",
        "\n",
        "\n",
        "# Assuming 'X_train_array' and 'y_train_array' are your features and labels\n",
        "# Normalize the feature vectors\n",
        "X_normalized = preprocessing.normalize(X_train_array, norm='l2')\n",
        "\n",
        "# Split the data into training and validation sets\n",
        "X_train, X_val, y_train, y_val = train_test_split(\n",
        "    X_normalized, y_train_array, test_size=0.25, random_state=42\n",
        ")\n",
        "\n",
        "# Initialize a list to store the classifiers\n",
        "classifiers = []\n",
        "\n",
        "# The C value for the soft margin classifiers\n",
        "C_value = 0.125\n",
        "\n",
        "# Training classifiers for each class\n",
        "for i in range(1, 5):  # Classes are 1 through 4\n",
        "    # Convert labels to binary (1 for the current class, -1 for all other classes)\n",
        "    binary_y_train = np.where(y_train == i, 1, -1)\n",
        "    binary_y_val = np.where(y_val == i, 1, -1)\n",
        "\n",
        "    # Initialize SVM with the specific C value\n",
        "    svm_model = svm.SVC(kernel='linear', C=C_value)\n",
        "\n",
        "    # Train the classifier\n",
        "    svm_model.fit(X_train, binary_y_train)\n",
        "\n",
        "    # Store the classifier\n",
        "    classifiers.append(svm_model)\n",
        "\n",
        "    # Predict on the validation set\n",
        "    y_val_pred = svm_model.predict(X_val)\n",
        "\n",
        "    # Calculate the error rate\n",
        "    error = 1 - accuracy_score(binary_y_val, y_val_pred)\n",
        "\n",
        "    # Print error for each classifier\n",
        "    print(f\"Classifier {i} Validation Error: {error}\")\n",
        "\n",
        "# You now have a list 'classifiers' with four trained models,\n",
        "# and individual validation errors printed for each.\n"
      ]
    },
    {
      "cell_type": "markdown",
      "metadata": {
        "id": "Xx_I1FNCFNnO"
      },
      "source": [
        "F. One vs One Classifier"
      ]
    },
    {
      "cell_type": "code",
      "execution_count": null,
      "metadata": {
        "id": "ziva8JOdFNnO",
        "outputId": "e532b621-1a2f-410a-fb4d-baf5d8b39850"
      },
      "outputs": [
        {
          "name": "stdout",
          "output_type": "stream",
          "text": [
            "1-vs-1 classification accuracy: 0.90\n",
            "              precision    recall  f1-score   support\n",
            "\n",
            "         1.0       0.93      0.87      0.90       600\n",
            "         2.0       0.88      0.90      0.89       600\n",
            "         3.0       0.92      0.91      0.92       600\n",
            "         4.0       0.86      0.91      0.88       600\n",
            "\n",
            "    accuracy                           0.90      2400\n",
            "   macro avg       0.90      0.90      0.90      2400\n",
            "weighted avg       0.90      0.90      0.90      2400\n",
            "\n"
          ]
        }
      ],
      "source": [
        "from sklearn.multiclass import OneVsOneClassifier\n",
        "from sklearn.svm import SVC\n",
        "\n",
        "# 'best_C_value' contains the best value for C found from the previous part, which is 0.125 here\n",
        "best_C_value = 0.125\n",
        "\n",
        "# Create the SVM model\n",
        "svm_model = SVC(kernel='linear', C=best_C_value)\n",
        "\n",
        "# Create the one-vs-one multi-class classifier\n",
        "ovo_classifier = OneVsOneClassifier(svm_model)\n",
        "\n",
        "# Train the classifier on the full training set\n",
        "ovo_classifier.fit(X_train_array, y_train_array)\n",
        "\n",
        "# Predict the test set results\n",
        "y_pred = ovo_classifier.predict(X_test_array)\n",
        "\n",
        "# Calculate the accuracy\n",
        "accuracy = accuracy_score(y_test_array, y_pred)\n",
        "\n",
        "print(f\"1-vs-1 classification accuracy: {accuracy:.2f}\")\n",
        "\n",
        "# If you're interested in detailed performance metrics, you can use classification report\n",
        "from sklearn.metrics import classification_report\n",
        "print(classification_report(y_test_array, y_pred))\n"
      ]
    },
    {
      "cell_type": "code",
      "execution_count": 11,
      "metadata": {},
      "outputs": [],
      "source": [
        "from sklearn import svm, preprocessing\n",
        "\n",
        "\n",
        "# Assuming 'X_train_array' and 'y_train_array' are your features and labels\n",
        "# Normalize the feature vectors\n",
        "X_train_norm = preprocessing.normalize(X_train, norm='l2')\n",
        "X_test_norm = preprocessing.normalize(X_test, norm='l2')\n",
        "\n",
        "from sklearn.svm import SVC\n",
        "\n",
        "# Define the range of C values you want to try.\n",
        "C_values = [2**i for i in range(-3, 10)]\n",
        "\n",
        "# This function will help in training the SVM with a given C value.\n",
        "def train_and_evaluate_svm(X, y, label, C):\n",
        "    \"\"\"\n",
        "    Trains an SVM and evaluates its performance.\n",
        "    \"\"\"\n",
        "    y_binary = np.where(y == label, 1, -1)  # Create binary labels\n",
        "    model = SVC(kernel='linear', C=C)\n",
        "    model.fit(X, y_binary)\n",
        "\n",
        "    # If validation data is available, predict and calculate error\n",
        "    y_pred = model.predict(X)  # you can replace X with your validation set, if available\n",
        "    error = 1 - accuracy_score(y_binary, y_pred)\n",
        "\n",
        "    return error\n",
        "\n",
        "# Testing different C values and finding the best one\n",
        "errors_for_c = []\n",
        "\n",
        "for C in C_values:\n",
        "    errors_for_label = []\n",
        "    for label in [1, 2, 3, 4]:\n",
        "        error = train_and_evaluate_svm(X_train_norm, y_train_array, label, C)\n",
        "        errors_for_label.append(error)\n",
        "    errors_for_c.append(np.mean(errors_for_label))\n",
        "\n",
        "# Finding the optimal C based on the error\n",
        "best_C_index = np.argmin(errors_for_c)\n",
        "best_C_value = C_values[best_C_index]\n",
        "\n",
        "print(f\"Best C-value is: {best_C_value}\")\n",
        "\n",
        "# Initialize a list to store the classifiers\n",
        "classifiers = []\n",
        "\n",
        "# Best C_value determined before this step based on your analysis\n",
        "C_value = best_C_value  # replace with your best C value\n",
        "\n",
        "# Loop through each class label to train a separate classifier\n",
        "for i in range(1, 5):  # Assuming class labels are from 1 to 4\n",
        "    print(f\"Training classifier for class {i}...\")\n",
        "\n",
        "    # Convert the labels: 1 for the current class and -1 for all other classes\n",
        "    binary_y_train = np.where(y_train == i, 1, -1)\n",
        "\n",
        "    # Initialize the SVM classifier with the optimal C value\n",
        "    svm_model = svm.SVC(kernel='linear', C=C_value)\n",
        "\n",
        "    # Train the classifier with the binary labels\n",
        "    svm_model.fit(X_train_norm, binary_y_train)\n",
        "\n",
        "    # Save the trained classifier to the list\n",
        "    classifiers.append(svm_model)\n",
        "\n",
        "    # Predict on the test set and calculate the error\n",
        "    y_test_pred = svm_model.predict(X_test_norm)  # Predictions on test data\n",
        "\n",
        "    # Prepare binary labels for the test set too\n",
        "    binary_y_test = np.where(y_test == i, 1, -1)\n",
        "\n",
        "    # Calculate the error rate for the predictions\n",
        "    error = 1 - accuracy_score(binary_y_test, y_test_pred)\n",
        "\n",
        "    # Output the error rate for each classifier\n",
        "    print(f\"Classifier for class {i} Error: {error}\")\n",
        "\n",
        "\n",
        "# You now have a list 'classifiers' with four trained models,\n",
        "# and individual validation errors printed for each."
      ]
    }
  ],
  "metadata": {
    "colab": {
      "provenance": []
    },
    "kernelspec": {
      "display_name": "Python 3",
      "language": "python",
      "name": "python3"
    },
    "language_info": {
      "codemirror_mode": {
        "name": "ipython",
        "version": 3
      },
      "file_extension": ".py",
      "mimetype": "text/x-python",
      "name": "python",
      "nbconvert_exporter": "python",
      "pygments_lexer": "ipython3",
      "version": "3.11.5"
    }
  },
  "nbformat": 4,
  "nbformat_minor": 0
}
