{
  "nbformat": 4,
  "nbformat_minor": 0,
  "metadata": {
    "colab": {
      "name": "IDS575_Programming_Assignment_1_Minal Daniel Josh.ipynb",
      "provenance": [],
      "collapsed_sections": []
    },
    "kernelspec": {
      "name": "python3",
      "display_name": "Python 3"
    }
  },
  "cells": [
    {
      "cell_type": "markdown",
      "metadata": {
        "id": "EWDHgt87ELsC"
      },
      "source": [
        "# **IDS575: Machine Learning and Statistical Methods**\n",
        "## Programming Assignment 1 \n",
        "## April 7, 2021\n",
        "Submitted by:\n",
        "1.   Minal Patil (UIN: 661688111)\n",
        "2.   Daniel Simon (UIN: 676315463)\n",
        "3.   Josh Wilks (UIN: 659102804)\n",
        "\n",
        "\n",
        "\n"
      ]
    },
    {
      "cell_type": "code",
      "metadata": {
        "colab": {
          "base_uri": "https://localhost:8080/"
        },
        "id": "Euea9lSUXC-F",
        "outputId": "eb3811cd-a6b5-4a76-a5fe-cd56eda99c4c"
      },
      "source": [
        "from google.colab import drive\n",
        "drive.mount('/content/drive') \n",
        "\n",
        "import os\n",
        "os.chdir('/content/drive/MyDrive/Spring 21/IDS 575 Machine Learning and Statistical Methods for Business Analytics/Programming homework')"
      ],
      "execution_count": null,
      "outputs": [
        {
          "output_type": "stream",
          "text": [
            "Drive already mounted at /content/drive; to attempt to forcibly remount, call drive.mount(\"/content/drive\", force_remount=True).\n"
          ],
          "name": "stdout"
        }
      ]
    },
    {
      "cell_type": "markdown",
      "metadata": {
        "id": "TMlHnEOxEvBz"
      },
      "source": [
        "## **PART A**: Importing libraries and loading the training and test data "
      ]
    },
    {
      "cell_type": "code",
      "metadata": {
        "colab": {
          "base_uri": "https://localhost:8080/"
        },
        "id": "RJJPQo0hD0lP",
        "outputId": "21d22153-382b-479e-a430-1987c88434df"
      },
      "source": [
        "from sklearn.datasets import load_svmlight_file\n",
        "import pandas as pd\n",
        "import numpy as np\n",
        "from scipy.sparse import csr_matrix\n",
        "import matplotlib.pyplot as plt\n",
        "\n",
        "X_train, y_train = load_svmlight_file(\"articles.train\")\n",
        "X_test, y_test = load_svmlight_file(\"articles.test\")\n",
        "words = pd.read_csv(\"words.map.txt\")\n",
        "\n",
        "# checking the no. of features (columns/words) and no. of articles (rows) in each dataset\n",
        "print(words.shape)\n",
        "print(X_train.shape)\n",
        "print(X_test.shape)\n",
        "\n"
      ],
      "execution_count": null,
      "outputs": [
        {
          "output_type": "stream",
          "text": [
            "(61187, 1)\n",
            "(4000, 51949)\n",
            "(2400, 60636)\n"
          ],
          "name": "stdout"
        }
      ]
    },
    {
      "cell_type": "markdown",
      "metadata": {
        "id": "s_YffbYIwEMG"
      },
      "source": [
        "### Resizing the training and test data to match the no. of features (words)"
      ]
    },
    {
      "cell_type": "code",
      "metadata": {
        "id": "ecLZ5x4jvbBf",
        "colab": {
          "base_uri": "https://localhost:8080/"
        },
        "outputId": "68e9e525-d642-4e01-e4b8-0da00f68fdf2"
      },
      "source": [
        "X_train.resize((X_train.shape[0], words.shape[0]))\n",
        "X_test.resize((X_test.shape[0], words.shape[0]))\n",
        "\n",
        "# confirming the no. of columns in all three datasets after resizing\n",
        "print(words.shape)\n",
        "print(X_train.shape)\n",
        "print(X_test.shape)"
      ],
      "execution_count": null,
      "outputs": [
        {
          "output_type": "stream",
          "text": [
            "(61187, 1)\n",
            "(4000, 61187)\n",
            "(2400, 61187)\n"
          ],
          "name": "stdout"
        }
      ]
    },
    {
      "cell_type": "markdown",
      "metadata": {
        "id": "yzM3l88Lietn"
      },
      "source": [
        "## **PART** **B** \n",
        "### We performed the following tasks in this part:\n",
        "\n",
        "1. Define a *train_SVM* function to perform 1-vs-all SVM hard-margin classification\n",
        "2. We trained four hard margin classifiers separately for each class to perform 1-vs-all classification. The function *change_ylabels* assigns +1 to our class of interest and -1 to the remaining three classes (for example, if the model classifies class 1 vs classes 3,4,5, *change_ylabels* function would assign labels 1 to 1 and labels 3,4,5 to -1)\n",
        "3. Alternatively, we also used in-built function *OneVsRestClassifier* to perform 1-vs-all classification. This is equivalent to combining results from the four different classifiers learned above"
      ]
    },
    {
      "cell_type": "code",
      "metadata": {
        "id": "6nLZoHPkfhkz"
      },
      "source": [
        "from sklearn.svm import SVC\n",
        "\n",
        "# function to change the labels for the class which is classified vs other classes in 1-vs-all\n",
        "# for ex. class 1 vs classes 3,4,5 --> class 1 label would be 1, rest will be -1\n",
        "def change_ylabels(arr, true_class):\n",
        "  new_arr = np.where(arr==true_class,1,-1)\n",
        "  return new_arr\n",
        "\n",
        "# training SVM\n",
        "# C = 1e10 is for hard margin classifier\n",
        "# C value for soft-margin classifiers will be entered manually as we proceed in the assignment\n",
        "\n",
        "def train_SVM(xdata, ydata, true_class, C, kernel='linear'):\n",
        "  y_new = change_ylabels(ydata, true_class)\n",
        "  if C is None:\n",
        "    model = SVC(kernel = kernel, C = 1e10)\n",
        "  else:\n",
        "    model = SVC(kernel = kernel, C = C)\n",
        "  model.fit(xdata, y_new)\n",
        "  return model\n",
        "\n"
      ],
      "execution_count": null,
      "outputs": []
    },
    {
      "cell_type": "markdown",
      "metadata": {
        "id": "2K3ME3T3_MX4"
      },
      "source": [
        "### 1-vs-all SVM hard-margin classifier: **Class 1-vs-2,3,4**\n",
        "\n"
      ]
    },
    {
      "cell_type": "code",
      "metadata": {
        "colab": {
          "base_uri": "https://localhost:8080/"
        },
        "id": "qP1VBFPNiYV8",
        "outputId": "d9654c4b-3015-444c-c803-710fb8aaf7f3"
      },
      "source": [
        "SVM1 = train_SVM(X_train, y_train, true_class = 1.0, C=None)\n",
        "\n",
        "y_test_pred = SVM1.predict(X_test)\n",
        "from sklearn.metrics import accuracy_score, confusion_matrix \n",
        "ytest_new = change_ylabels(y_test, true_class=1.0)\n",
        "print(accuracy_score(ytest_new, y_test_pred))\n",
        "print(confusion_matrix(ytest_new, y_test_pred))\n",
        "print(y_test_pred)"
      ],
      "execution_count": null,
      "outputs": [
        {
          "output_type": "stream",
          "text": [
            "0.9579166666666666\n",
            "[[1783   17]\n",
            " [  84  516]]\n",
            "[ 1  1  1 ... -1 -1 -1]\n"
          ],
          "name": "stdout"
        }
      ]
    },
    {
      "cell_type": "markdown",
      "metadata": {
        "id": "l685cqHnSTtV"
      },
      "source": [
        "### 1-vs-all SVM hard-margin classifier: **Class 2-vs-1,3,4**"
      ]
    },
    {
      "cell_type": "code",
      "metadata": {
        "id": "IfurPJ4d06Uf",
        "colab": {
          "base_uri": "https://localhost:8080/"
        },
        "outputId": "8dfb93a5-5892-437c-c49a-0902234d7853"
      },
      "source": [
        "SVM2 = train_SVM(X_train, y_train, true_class = 2.0, C=None)\n",
        "\n",
        "y_test_pred = SVM2.predict(X_test)\n",
        "from sklearn.metrics import accuracy_score, confusion_matrix \n",
        "ytest_new = change_ylabels(y_test, true_class=2.0)\n",
        "print(accuracy_score(ytest_new, y_test_pred))\n",
        "print(confusion_matrix(ytest_new, y_test_pred))\n",
        "print(y_test_pred)"
      ],
      "execution_count": null,
      "outputs": [
        {
          "output_type": "stream",
          "text": [
            "0.9341666666666667\n",
            "[[1741   59]\n",
            " [  99  501]]\n",
            "[-1 -1 -1 ... -1 -1 -1]\n"
          ],
          "name": "stdout"
        }
      ]
    },
    {
      "cell_type": "markdown",
      "metadata": {
        "id": "0n68MKrf90kP"
      },
      "source": [
        "### 1-vs-all SVM hard-margin classifier: **Class 3-vs-1,2,4**"
      ]
    },
    {
      "cell_type": "code",
      "metadata": {
        "id": "0CsLc-20SSvU",
        "colab": {
          "base_uri": "https://localhost:8080/"
        },
        "outputId": "7a7a951c-afa6-49ae-dec0-6b35af527932"
      },
      "source": [
        "SVM3 = train_SVM(X_train, y_train, true_class = 3.0, C=None)\n",
        "\n",
        "y_test_pred = SVM3.predict(X_test)\n",
        "from sklearn.metrics import accuracy_score, confusion_matrix \n",
        "ytest_new = change_ylabels(y_test, true_class=3.0)\n",
        "print(accuracy_score(ytest_new, y_test_pred))\n",
        "print(confusion_matrix(ytest_new, y_test_pred))\n",
        "print(y_test_pred)"
      ],
      "execution_count": null,
      "outputs": [
        {
          "output_type": "stream",
          "text": [
            "0.9491666666666667\n",
            "[[1754   46]\n",
            " [  76  524]]\n",
            "[-1 -1 -1 ... -1 -1 -1]\n"
          ],
          "name": "stdout"
        }
      ]
    },
    {
      "cell_type": "markdown",
      "metadata": {
        "id": "XfwrbherBBbF"
      },
      "source": [
        "### 1-vs-all SVM hard-margin classifier: **Class 4-vs-1,2,3**"
      ]
    },
    {
      "cell_type": "code",
      "metadata": {
        "colab": {
          "base_uri": "https://localhost:8080/"
        },
        "id": "qAri3fJWA7ty",
        "outputId": "b5f6619b-0d5f-4969-a4e9-1ef4ec868cc1"
      },
      "source": [
        "SVM4 = train_SVM(X_train, y_train, true_class = 4.0, C=None)\n",
        "\n",
        "y_test_pred = SVM4.predict(X_test)\n",
        "from sklearn.metrics import accuracy_score, confusion_matrix \n",
        "ytest_new = change_ylabels(y_test, true_class=4.0)\n",
        "print(accuracy_score(ytest_new, y_test_pred))\n",
        "print(confusion_matrix(ytest_new, y_test_pred))\n",
        "print(y_test_pred)"
      ],
      "execution_count": null,
      "outputs": [
        {
          "output_type": "stream",
          "text": [
            "0.9408333333333333\n",
            "[[1746   54]\n",
            " [  88  512]]\n",
            "[-1 -1 -1 ...  1  1  1]\n"
          ],
          "name": "stdout"
        }
      ]
    },
    {
      "cell_type": "markdown",
      "metadata": {
        "id": "6x4eO0KovK-0"
      },
      "source": [
        "### 1-vs-all SVM hard-margin classifier using **OneVsRestClassifier**\n"
      ]
    },
    {
      "cell_type": "code",
      "metadata": {
        "id": "kE8QtKRNu5zs",
        "colab": {
          "base_uri": "https://localhost:8080/"
        },
        "outputId": "e71b6405-7cb1-4cad-b5a2-866195da8675"
      },
      "source": [
        "from sklearn.multiclass import OneVsRestClassifier\n",
        "from sklearn.svm import LinearSVC\n",
        "ovr1 = OneVsRestClassifier((LinearSVC(random_state=0, C=1e10)).fit(X_train, y_train), n_jobs=4)\n",
        "\n",
        "modelovr1 = ovr1.fit(X_train, y_train)\n",
        "y_test_pred = modelovr1.predict(X_test)\n",
        "from sklearn.metrics import accuracy_score, confusion_matrix \n",
        "print(accuracy_score(y_test, y_test_pred))\n",
        "print(confusion_matrix(y_test, y_test_pred))\n",
        "print(y_test_pred)"
      ],
      "execution_count": null,
      "outputs": [
        {
          "output_type": "stream",
          "text": [
            "0.90375\n",
            "[[536  27  10  27]\n",
            " [ 17 539  17  27]\n",
            " [  9  24 549  18]\n",
            " [ 10  24  21 545]]\n",
            "[1. 1. 1. ... 4. 4. 4.]\n"
          ],
          "name": "stdout"
        }
      ]
    },
    {
      "cell_type": "markdown",
      "metadata": {
        "id": "RT3aLV8DH8z8"
      },
      "source": [
        "### Test accuracies of all binary classifiers are as below:\n",
        "\n",
        "* SVM1 = 95.8% accuracy on the test data\n",
        "* SVM2 = 93.4% accuracy on the test data\n",
        "* SVM3 = 94.9% accuracy on the test data\n",
        "* SVM4 = 94.1% accuracy on the test data\n",
        "* Test accuracy of OneVsRestClassifier is 90.4%\n",
        "\n"
      ]
    },
    {
      "cell_type": "markdown",
      "metadata": {
        "id": "3F5kRtMZERy0"
      },
      "source": [
        "## **PART** **C** \n",
        "### We performed the following tasks in this part:\n",
        "\n",
        "1. Split the training data randomly into 75% for training and 25% for validation\n",
        "2. We use different values of C from {0.125, 0.25, 0.5, 1, 2, 4, 8, 16, 32, 64, 128, 256, 512}, and train all four binary classifiers from part b (SVM1, SVM2, SVM3, SVM4) on the 75% training data\n",
        "3. Measure the overall classification error of all four binary classifiers on the 25% validation data, and picked the C which resulted in the lowest validation error"
      ]
    },
    {
      "cell_type": "code",
      "metadata": {
        "colab": {
          "base_uri": "https://localhost:8080/"
        },
        "id": "zme7Gc25A5g7",
        "outputId": "baf6ebcc-6ba4-49e0-a6cf-3d51e5b01b33"
      },
      "source": [
        "# Splitting the training data into train (75%) and validation (25%) sets\n",
        "\n",
        "from sklearn.model_selection import train_test_split\n",
        "X_train_c, X_val, y_train_c, y_val = train_test_split(X_train, y_train, test_size=0.25)\n",
        "\n",
        "# array (-3, -2, -1,....,10) for C values which are (2^-3, 2^-2,....,2^10)\n",
        "pwr = np.arange(-3,10,1)\n",
        "\n",
        "# for each C value, training all four classifiers on the 75% training data and calculating the validation error on\n",
        "# 25% validation data to pick the best C\n",
        "\n",
        "err1 = []     # array to store misclassification error on the test data from the first binary classifier\n",
        "err2 = []     # array to store misclassification error on the test data from the second binary classifier\n",
        "err3 = []     # array to store misclassification error on the test data from the third binary classifier\n",
        "err4 = []     # array to store misclassification error on the test data from the fourth binary classifier\n",
        "cumerr = []   # array to store the overall average misclassification error on the test data from all four binary classifiers\n",
        "trainerr1 = [] # array to store misclassification error on the training data from the first binary classifier\n",
        "trainerr2 = [] # array to store misclassification error on the training data from the second binary classifier\n",
        "trainerr3 = [] # array to store misclassification error on the training data from the third binary classifier\n",
        "trainerr4 = [] # array to store misclassification error on the training data from the fourth binary classifier\n",
        "for i in pwr:\n",
        "  C = 2.0**i\n",
        "\n",
        "  SVM_SM1 = train_SVM(X_train_c, y_train_c, true_class=1.0, C=C)\n",
        "  error1 = 1 - accuracy_score(change_ylabels(y_val, true_class=1.0), SVM_SM1.predict(X_val))\n",
        "  err1.append(error1)\n",
        "  trainerr1.append(1-SVM_SM1.score(X_train_c, change_ylabels(y_train_c, true_class=1.0)))\n",
        "\n",
        "  SVM_SM2 = train_SVM(X_train_c, y_train_c, true_class=2.0, C=C)\n",
        "  error2 = 1 - accuracy_score(change_ylabels(y_val, true_class=2.0), SVM_SM2.predict(X_val))\n",
        "  err2.append(error2)\n",
        "  trainerr2.append(1-SVM_SM2.score(X_train_c, change_ylabels(y_train_c, true_class=2.0)))\n",
        "\n",
        "  SVM_SM3 = train_SVM(X_train_c, y_train_c, true_class=3.0, C=C)\n",
        "  error3 = 1 - accuracy_score(change_ylabels(y_val, true_class=3.0), SVM_SM3.predict(X_val))\n",
        "  err3.append(error3)\n",
        "  trainerr3.append(1-SVM_SM3.score(X_train_c, change_ylabels(y_train_c, true_class=3.0)))\n",
        "\n",
        "  SVM_SM4 = train_SVM(X_train_c, y_train_c, true_class=4.0, C=C)\n",
        "  error4 = 1 - accuracy_score(change_ylabels(y_val, true_class=4.0), SVM_SM4.predict(X_val))\n",
        "  err4.append(error4)\n",
        "  trainerr4.append(1-SVM_SM4.score(X_train_c, change_ylabels(y_train_c, true_class=4.0)))\n",
        "  cumerr.append((error1+error2+error3+error4)/4)\n",
        "  print(\"Overall misclassification_error for\", C, \"=\", (error1+error2+error3+error4)/4) "
      ],
      "execution_count": null,
      "outputs": [
        {
          "output_type": "stream",
          "text": [
            "Overall misclassification_error for 0.125 = 0.039750000000000035\n",
            "Overall misclassification_error for 0.25 = 0.04200000000000004\n",
            "Overall misclassification_error for 0.5 = 0.04350000000000004\n",
            "Overall misclassification_error for 1.0 = 0.04300000000000004\n",
            "Overall misclassification_error for 2.0 = 0.04400000000000004\n",
            "Overall misclassification_error for 4.0 = 0.04400000000000004\n",
            "Overall misclassification_error for 8.0 = 0.04400000000000004\n",
            "Overall misclassification_error for 16.0 = 0.04400000000000004\n",
            "Overall misclassification_error for 32.0 = 0.04400000000000004\n",
            "Overall misclassification_error for 64.0 = 0.04400000000000004\n",
            "Overall misclassification_error for 128.0 = 0.04400000000000004\n",
            "Overall misclassification_error for 256.0 = 0.04400000000000004\n",
            "Overall misclassification_error for 512.0 = 0.04400000000000004\n"
          ],
          "name": "stdout"
        }
      ]
    },
    {
      "cell_type": "markdown",
      "metadata": {
        "id": "OCLLjCSxUo96"
      },
      "source": [
        "### Plotting missclassification errors against Log2(C) to see how the error vary with different values of C\n",
        "\n",
        "*   We observed that **C = 0.125** gives the lowest average misclassification error of 3.5% on the test data (this maybe different each time we run the code because we are randomly splitting the training data into 75:25 ratio)\n",
        "\n",
        "\n"
      ]
    },
    {
      "cell_type": "code",
      "metadata": {
        "colab": {
          "base_uri": "https://localhost:8080/",
          "height": 312
        },
        "id": "-Zoj38CvUUc_",
        "outputId": "4ee2ff7c-f4a0-446a-c1ee-cb0c7e1fae48"
      },
      "source": [
        "# plotting missclassification errors of all four binary classifiers and the overall classification error on one plot\n",
        "fig, errplots = plt.subplots()\n",
        "errplots.plot(pwr,err1, label='tst error classifier 1')      #test error from first binary classifier\n",
        "errplots.plot(pwr,err2, label='tst error classifier 2')      #test error from second binary classifier\n",
        "errplots.plot(pwr,err3, label='tst error classifier 3')      #test error from third binary classifier\n",
        "errplots.plot(pwr,err4, label='tst error classifier 4')      #test error from fourth binary classifier\n",
        "errplots.plot(pwr,trainerr1, label='trn error classifier 1') #training error from first binary classifier\n",
        "errplots.plot(pwr,trainerr2, label='trn error classifier 2') #training error from second binary classifier\n",
        "errplots.plot(pwr,trainerr3, label='trn error classifier 3') #training error from third binary classifier\n",
        "errplots.plot(pwr,trainerr4, label='trn error classifier 4') #training error from fourth binary classifier\n",
        "errplots.plot(pwr,cumerr, label='overall avg error')      #avg of all 4 classifiers\n",
        "errplots.set_ylabel('validation error')\n",
        "errplots.set_xlabel('Log2(C)')\n",
        "errplots.legend()\n",
        "errplots.set_title('Validation error vs. Log2(C)')"
      ],
      "execution_count": null,
      "outputs": [
        {
          "output_type": "execute_result",
          "data": {
            "text/plain": [
              "Text(0.5, 1.0, 'Validation error vs. Log2(C)')"
            ]
          },
          "metadata": {
            "tags": []
          },
          "execution_count": 31
        },
        {
          "output_type": "display_data",
          "data": {
            "image/png": "[encoded data removed]",
            "text/plain": [
              "<Figure size 432x288 with 1 Axes>"
            ]
          },
          "metadata": {
            "tags": [],
            "needs_background": "light"
          }
        }
      ]
    },
    {
      "cell_type": "markdown",
      "metadata": {
        "id": "PEyUGxZGNQCl"
      },
      "source": [
        "## **PART** **D** \n",
        "### We performed the following tasks in this part:\n",
        "\n",
        "1. We used the best C value as 0.125 picked from the part C and trained four soft margin classifiers with this C on the entire training data X_train and y_train (In part B, we trained hard margin classifiers using our function train_SVM with C = 1e10. In this part, we will be using the same function train_SVM with C = 0.125 for soft margin classifiers).\n",
        "2. We compare the accuracies of these four soft-margin classifiers to those of hard-margin classifiers in part B"
      ]
    },
    {
      "cell_type": "code",
      "metadata": {
        "colab": {
          "base_uri": "https://localhost:8080/"
        },
        "id": "YsPCghAiF_OL",
        "outputId": "ece43575-a518-4293-f763-345c1d01c643"
      },
      "source": [
        "## training soft margin classifier for class 1 vs classes 2,3,4 with C=0.125\n",
        "## Class 1\n",
        "SVM_SM_D1 = train_SVM(X_train, y_train, true_class = 1.0, C=0.125)\n",
        "\n",
        "y_test_pred = SVM_SM_D1.predict(X_test)\n",
        "from sklearn.metrics import accuracy_score, confusion_matrix \n",
        "ytest_new = change_ylabels(y_test, true_class=1.0)\n",
        "print(accuracy_score(ytest_new, y_test_pred))\n",
        "print(confusion_matrix(ytest_new, y_test_pred))\n",
        "print(y_test_pred)"
      ],
      "execution_count": null,
      "outputs": [
        {
          "output_type": "stream",
          "text": [
            "0.9616666666666667\n",
            "[[1789   11]\n",
            " [  81  519]]\n",
            "[ 1  1  1 ... -1 -1 -1]\n"
          ],
          "name": "stdout"
        }
      ]
    },
    {
      "cell_type": "markdown",
      "metadata": {
        "id": "BT3H1E_gaJO_"
      },
      "source": [
        "### Comparing accuracies of binary classifier for class 1 vs. class 2,3,4\n",
        "\n",
        "*   Hard margin classifier in part B    = 95.8%\n",
        "*   Soft margin classifier with C 0.125 = 96.2%\n",
        "\n",
        "Soft margin is observed to perform better in this case\n",
        "\n"
      ]
    },
    {
      "cell_type": "code",
      "metadata": {
        "colab": {
          "base_uri": "https://localhost:8080/"
        },
        "id": "0I--JQ2KOVwH",
        "outputId": "f00f1d35-60c8-4ddf-9d26-ccea25e49d29"
      },
      "source": [
        "## training soft margin classifier for class 2 vs classes 1,3,4 with C=0.125\n",
        "## Class 2\n",
        "SVM_SM_D2 = train_SVM(X_train, y_train, true_class = 2.0, C=0.125)\n",
        "\n",
        "y_test_pred = SVM_SM_D2.predict(X_test)\n",
        "from sklearn.metrics import accuracy_score, confusion_matrix \n",
        "ytest_new = change_ylabels(y_test, true_class=2.0)\n",
        "print(accuracy_score(ytest_new, y_test_pred))\n",
        "print(confusion_matrix(ytest_new, y_test_pred))\n",
        "print(y_test_pred)"
      ],
      "execution_count": null,
      "outputs": [
        {
          "output_type": "stream",
          "text": [
            "0.94625\n",
            "[[1760   40]\n",
            " [  89  511]]\n",
            "[-1 -1 -1 ... -1 -1 -1]\n"
          ],
          "name": "stdout"
        }
      ]
    },
    {
      "cell_type": "markdown",
      "metadata": {
        "id": "6nRYX449a536"
      },
      "source": [
        "### Comparing accuracies of binary classifier for class 2 vs. class 1,3,4\n",
        "\n",
        "*   Hard margin classifier in part B    = 93.4%\n",
        "*   Soft margin classifier with C 0.125 = 94.6%\n",
        "\n",
        "Soft margin is observed to perform better in this case"
      ]
    },
    {
      "cell_type": "code",
      "metadata": {
        "colab": {
          "base_uri": "https://localhost:8080/"
        },
        "id": "SYIhIz6HOp6G",
        "outputId": "426f313f-a3ac-43c4-adc3-571eb9173d3b"
      },
      "source": [
        "## training soft margin classifier for class 3 vs classes 1,2,4 with C=0.125\n",
        "## Class 3\n",
        "SVM_SM_D3 = train_SVM(X_train, y_train, true_class = 3.0, C=0.125)\n",
        "\n",
        "y_test_pred = SVM_SM_D3.predict(X_test)\n",
        "from sklearn.metrics import accuracy_score, confusion_matrix \n",
        "ytest_new = change_ylabels(y_test, true_class=3.0)\n",
        "print(accuracy_score(ytest_new, y_test_pred))\n",
        "print(confusion_matrix(ytest_new, y_test_pred))\n",
        "print(y_test_pred)"
      ],
      "execution_count": null,
      "outputs": [
        {
          "output_type": "stream",
          "text": [
            "0.9654166666666667\n",
            "[[1782   18]\n",
            " [  65  535]]\n",
            "[-1 -1 -1 ... -1 -1 -1]\n"
          ],
          "name": "stdout"
        }
      ]
    },
    {
      "cell_type": "markdown",
      "metadata": {
        "id": "ZwoNTTIWbI_u"
      },
      "source": [
        "### Comparing accuracies of binary classifier for class 3 vs. class 1,2,4\n",
        "\n",
        "*   Hard margin classifier in part B    = 94.9%\n",
        "*   Soft margin classifier with C 0.125 = 96.5%\n",
        "\n",
        "Soft margin is observed to perform better in this case"
      ]
    },
    {
      "cell_type": "code",
      "metadata": {
        "colab": {
          "base_uri": "https://localhost:8080/"
        },
        "id": "qc1a_zksO2vx",
        "outputId": "a2ed62db-783b-4f4f-de08-5d975de06bb0"
      },
      "source": [
        "## training soft margin classifier for class 4 vs classes 1,2,3 with C=0.125\n",
        "## Class 4\n",
        "SVM_SM_D4 = train_SVM(X_train, y_train, true_class = 4.0, C=0.125)\n",
        "\n",
        "y_test_pred = SVM_SM_D4.predict(X_test)\n",
        "from sklearn.metrics import accuracy_score, confusion_matrix \n",
        "ytest_new = change_ylabels(y_test, true_class=4.0)\n",
        "print(accuracy_score(ytest_new, y_test_pred))\n",
        "print(confusion_matrix(ytest_new, y_test_pred))\n",
        "print(y_test_pred)"
      ],
      "execution_count": null,
      "outputs": [
        {
          "output_type": "stream",
          "text": [
            "0.9416666666666667\n",
            "[[1749   51]\n",
            " [  89  511]]\n",
            "[-1 -1 -1 ...  1  1  1]\n"
          ],
          "name": "stdout"
        }
      ]
    },
    {
      "cell_type": "markdown",
      "metadata": {
        "id": "427wuy9cbe-r"
      },
      "source": [
        "### Comparing accuracies of binary classifier for class 4 vs. class 1,2,3\n",
        "\n",
        "*   Hard margin classifier in part B    = 94.1%\n",
        "*   Soft margin classifier with C 0.125 = 94.2%\n",
        "\n",
        "Although the difference in accuracies is not significant in this case, soft margin still has higher accuracy than that of hard margin classifier"
      ]
    },
    {
      "cell_type": "code",
      "metadata": {
        "colab": {
          "base_uri": "https://localhost:8080/"
        },
        "id": "8sicELehxfvs",
        "outputId": "a2362222-7f4f-4cba-eab4-99164bc57619"
      },
      "source": [
        "from sklearn.multiclass import OneVsRestClassifier\n",
        "from sklearn.svm import LinearSVC\n",
        "ovr1 = OneVsRestClassifier((LinearSVC(random_state=0, C=0.125)).fit(X_train, y_train), n_jobs=4)\n",
        "\n",
        "modelovr1 = ovr1.fit(X_train, y_train)\n",
        "y_test_pred = modelovr1.predict(X_test)\n",
        "from sklearn.metrics import accuracy_score, confusion_matrix \n",
        "print(accuracy_score(y_test, y_test_pred))\n",
        "print(confusion_matrix(y_test, y_test_pred)) #confusion matrix with all 4 classes, all the off-diagonal values are misclassifications\n",
        "print(y_test_pred)"
      ],
      "execution_count": null,
      "outputs": [
        {
          "output_type": "stream",
          "text": [
            "0.9233333333333333\n",
            "[[546  17  12  25]\n",
            " [ 13 554  10  23]\n",
            " [  6  19 561  14]\n",
            " [ 11  21  13 555]]\n",
            "[1. 1. 1. ... 4. 4. 4.]\n"
          ],
          "name": "stdout"
        }
      ]
    },
    {
      "cell_type": "markdown",
      "metadata": {
        "id": "TuY_I4VVzO6l"
      },
      "source": [
        "### Comparing accuracies of multiclass classifier OneVsRestClassifier\n",
        "\n",
        "*   Multiclass hard margin classifier in part B = 90.4%\n",
        "*   Multiclass soft margin classifier with C 0.125 = 92.3%\n",
        "\n",
        "Soft margin multiclass classifier has higher accuracy than that of hard margin multiclass classifier"
      ]
    },
    {
      "cell_type": "markdown",
      "metadata": {
        "id": "HoLjvp4dPwFe"
      },
      "source": [
        "### We observed that in our case, soft margin classifiers work better than hard margin classifiers\n",
        "Soft margin and hard margin classifiers work differently on different dataset. If the data is linearly separable, then hard-margin classifiers work better allowing no misclassifications, but if the data is not completely linearly separable, soft margin and hard margin may work differently.\n",
        "\n",
        "In our case, soft margin classifiers work better, the reason behind this could be that our data is not completely linearly separable with a few data points closer to the classifying hyperplane, the model missclassifies more examples with hard margin, and gives less error with soft margin by classifying examples closer to the hyperplane correctly. "
      ]
    },
    {
      "cell_type": "markdown",
      "metadata": {
        "id": "u3GeOaOVrKcr"
      },
      "source": [
        "## **PART** **E** \n",
        "### We performed the following tasks in this part:\n",
        "\n",
        "1. We normalized our feature vectors X_train and X_test by dividing each feature with the L2 norm of the feature vector. Our normalized feature vectors are X_train_norm and X_test_norm, which we will be using in this part.\n",
        "2. We compare the accuracies of these four soft-margin classifiers with normalized feature vectors to those of soft margin classifiers without normalized vectors in part D"
      ]
    },
    {
      "cell_type": "code",
      "metadata": {
        "id": "wi8P_LK6rOAG"
      },
      "source": [
        "# normalizing feature vectors\n",
        "from sklearn.preprocessing import normalize\n",
        "X_train_norm = normalize(X_train, norm='l2', axis=1, copy=True, return_norm=False)\n",
        "X_test_norm = normalize(X_test, norm='l2', axis=1, copy=True, return_norm=False)\n"
      ],
      "execution_count": null,
      "outputs": []
    },
    {
      "cell_type": "code",
      "metadata": {
        "colab": {
          "base_uri": "https://localhost:8080/"
        },
        "id": "fb6MyQKrtjgq",
        "outputId": "557361eb-2559-49f1-9b3d-0b9ee7c4a31f"
      },
      "source": [
        "## training soft margin classifier for class 1 vs classes 2,3,4 with C=0.125 with normalized feature vectors\n",
        "## Class 1\n",
        "\n",
        "SVM_norm1 = train_SVM(X_train_norm, y_train, true_class = 1.0, C=0.125)\n",
        "\n",
        "y_test_pred = SVM_norm1.predict(X_test_norm)\n",
        "from sklearn.metrics import accuracy_score, confusion_matrix \n",
        "ytest_new = change_ylabels(y_test, true_class=1.0)\n",
        "print(accuracy_score(ytest_new, y_test_pred))\n",
        "print(confusion_matrix(ytest_new, y_test_pred))\n",
        "print(y_test_pred)"
      ],
      "execution_count": null,
      "outputs": [
        {
          "output_type": "stream",
          "text": [
            "0.9216666666666666\n",
            "[[1795    5]\n",
            " [ 183  417]]\n",
            "[ 1 -1 -1 ... -1 -1 -1]\n"
          ],
          "name": "stdout"
        }
      ]
    },
    {
      "cell_type": "markdown",
      "metadata": {
        "id": "zBdCakdrvW70"
      },
      "source": [
        "### Comparing accuracies of soft margin binary classifier for class 1 vs. class 2,3,4\n",
        "\n",
        "*   Without normalized feature vectors in part D    = 96.2%\n",
        "*   With normalized feature vectors as seen above = 92.2%\n",
        "\n",
        "We observe that soft margin classifiers with normalized feature vectors result in less accuracy or more classification error as compared to soft margin classifiers without normalized feature vectors."
      ]
    },
    {
      "cell_type": "code",
      "metadata": {
        "colab": {
          "base_uri": "https://localhost:8080/"
        },
        "id": "3ghGEUMZuvsn",
        "outputId": "83cabcaf-bd00-4cce-96ad-3d04db23efae"
      },
      "source": [
        "## training soft margin classifier for class 2 vs classes 1,3,4 with C=0.125 with normalized feature vectors\n",
        "## Class 2\n",
        "\n",
        "SVM_norm2 = train_SVM(X_train_norm, y_train, true_class = 2.0, C=0.125)\n",
        "\n",
        "y_test_pred = SVM_norm2.predict(X_test_norm)\n",
        "from sklearn.metrics import accuracy_score, confusion_matrix \n",
        "ytest_new = change_ylabels(y_test, true_class=2.0)\n",
        "print(accuracy_score(ytest_new, y_test_pred))\n",
        "print(confusion_matrix(ytest_new, y_test_pred))\n",
        "print(y_test_pred)"
      ],
      "execution_count": null,
      "outputs": [
        {
          "output_type": "stream",
          "text": [
            "0.8166666666666667\n",
            "[[1800    0]\n",
            " [ 440  160]]\n",
            "[-1 -1 -1 ... -1 -1 -1]\n"
          ],
          "name": "stdout"
        }
      ]
    },
    {
      "cell_type": "markdown",
      "metadata": {
        "id": "-GddeFaTwXkg"
      },
      "source": [
        "### Comparing accuracies of soft margin binary classifier for class 2 vs. class 1,3,4\n",
        "\n",
        "*   Without normalized feature vectors in part D = 94.6%\n",
        "*   With normalized feature vectors as seen above = 81.7%\n",
        "\n",
        "We observe that soft margin classifiers with normalized feature vectors result in less accuracy or more classification error as compared to soft margin classifiers without normalized feature vectors."
      ]
    },
    {
      "cell_type": "code",
      "metadata": {
        "colab": {
          "base_uri": "https://localhost:8080/"
        },
        "id": "j0gojltIvo31",
        "outputId": "2f5074ba-5d2f-461e-fe7b-fbad39de17f7"
      },
      "source": [
        "## training soft margin classifier for class 3 vs classes 1,2,4 with C=0.125 with normalized feature vectors\n",
        "## Class 3\n",
        "\n",
        "SVM_norm3 = train_SVM(X_train_norm, y_train, true_class = 3.0, C=0.125)\n",
        "\n",
        "y_test_pred = SVM_norm3.predict(X_test_norm)\n",
        "from sklearn.metrics import accuracy_score, confusion_matrix \n",
        "ytest_new = change_ylabels(y_test, true_class=3.0)\n",
        "print(accuracy_score(ytest_new, y_test_pred))\n",
        "print(confusion_matrix(ytest_new, y_test_pred))\n",
        "print(y_test_pred)"
      ],
      "execution_count": null,
      "outputs": [
        {
          "output_type": "stream",
          "text": [
            "0.8991666666666667\n",
            "[[1795    5]\n",
            " [ 237  363]]\n",
            "[-1 -1 -1 ... -1 -1 -1]\n"
          ],
          "name": "stdout"
        }
      ]
    },
    {
      "cell_type": "markdown",
      "metadata": {
        "id": "p8SDOhzqwoHR"
      },
      "source": [
        "### Comparing accuracies of soft margin binary classifier for class 3 vs. class 1,2,4\n",
        "\n",
        "*   Without normalized feature vectors in part D = 96.5%\n",
        "*   With normalized feature vectors as seen above = 89.9%\n",
        "\n",
        "We observe that soft margin classifiers with normalized feature vectors result in less accuracy or more classification error as compared to soft margin classifiers without normalized feature vectors."
      ]
    },
    {
      "cell_type": "code",
      "metadata": {
        "colab": {
          "base_uri": "https://localhost:8080/"
        },
        "id": "WtTlYhrbvwPO",
        "outputId": "b2385a90-71df-4786-f8c0-481d38307473"
      },
      "source": [
        "## training soft margin classifier for class 4 vs classes 1,2,3 with C=0.125 with normalized feature vectors\n",
        "## Class 4\n",
        "\n",
        "SVM_norm4 = train_SVM(X_train_norm, y_train, true_class = 4.0, C=0.125)\n",
        "\n",
        "y_test_pred = SVM_norm4.predict(X_test_norm)\n",
        "from sklearn.metrics import accuracy_score, confusion_matrix \n",
        "ytest_new = change_ylabels(y_test, true_class=4.0)\n",
        "print(accuracy_score(ytest_new, y_test_pred))\n",
        "print(confusion_matrix(ytest_new, y_test_pred))\n",
        "print(y_test_pred)"
      ],
      "execution_count": null,
      "outputs": [
        {
          "output_type": "stream",
          "text": [
            "0.8845833333333334\n",
            "[[1788   12]\n",
            " [ 265  335]]\n",
            "[-1 -1 -1 ...  1  1 -1]\n"
          ],
          "name": "stdout"
        }
      ]
    },
    {
      "cell_type": "markdown",
      "metadata": {
        "id": "MBpradJlw7p8"
      },
      "source": [
        "### Comparing accuracies of soft margin binary classifier for class 4 vs. class 1,2,3\n",
        "\n",
        "*   Without normalized feature vectors in part D = 94.2%\n",
        "*   With normalized feature vectors as seen above = 88.5%\n",
        "\n",
        "We observe that soft margin classifiers with normalized feature vectors result in less accuracy or more classification error as compared to soft margin classifiers without normalized feature vectors."
      ]
    },
    {
      "cell_type": "code",
      "metadata": {
        "colab": {
          "base_uri": "https://localhost:8080/"
        },
        "id": "dDsNqBH53CYb",
        "outputId": "f05bc3a6-1383-41fe-8741-4e56b8d67b13"
      },
      "source": [
        "# multiclass classifier OneVsRestClassifier with normalized feature vectors\n",
        "from sklearn.multiclass import OneVsRestClassifier\n",
        "from sklearn.svm import LinearSVC\n",
        "ovr1 = OneVsRestClassifier((LinearSVC(random_state=0, C=0.125)).fit(X_train_norm, y_train), n_jobs=4)\n",
        "\n",
        "modelovr1 = ovr1.fit(X_train_norm, y_train)\n",
        "y_test_pred = modelovr1.predict(X_test_norm)\n",
        "from sklearn.metrics import accuracy_score, confusion_matrix \n",
        "print(accuracy_score(y_test, y_test_pred))\n",
        "print(confusion_matrix(y_test, y_test_pred)) #confusion matrix with all 4 classes, all the off-diagonal values are misclassifications\n",
        "print(y_test_pred)"
      ],
      "execution_count": null,
      "outputs": [
        {
          "output_type": "stream",
          "text": [
            "0.9116666666666666\n",
            "[[546  12  11  31]\n",
            " [ 26 517  13  44]\n",
            " [ 14   7 565  14]\n",
            " [  8  17  15 560]]\n",
            "[1. 1. 1. ... 4. 4. 4.]\n"
          ],
          "name": "stdout"
        }
      ]
    },
    {
      "cell_type": "markdown",
      "metadata": {
        "id": "V-vcxR_a0ZPZ"
      },
      "source": [
        "### Comparing accuracies of soft margin multiclass classifiers \n",
        "\n",
        "*   Without normalized feature vectors in part D = 92.3%\n",
        "*   With normalized feature vectors as seen above = 91.2%\n",
        "\n",
        "We observe that soft margin multiclass classifier with normalized feature vectors result in less accuracy or more classification error as compared to soft margin multiclass classifier without normalized feature vectors."
      ]
    },
    {
      "cell_type": "markdown",
      "metadata": {
        "id": "e_pvI4z1wPxD"
      },
      "source": [
        "## **PART** **F** \n",
        "### We performed the following tasks in this part:\n",
        "\n",
        "1. Till now, we have trained 1-vs-all classifiers - binary and multiclass. In this part, we train 1-vs-1 classifiers by picking a pair of classes and building a classifier to classify the pair. \n",
        "We used OneVsOneClassier to perform this task. Since we have 4 classes, this classifier trains all (4C2 = 6) binary classifiers to classify every pair of classes. This classifier then picks the class with higher votes.\n",
        "2. We then compare the accuracies of our 1-vs-1 classifier with C=0.125 and normalized feature vectors to that of 1-vs-all classifier with C=0.125 and normalized feature vectors."
      ]
    },
    {
      "cell_type": "code",
      "metadata": {
        "colab": {
          "base_uri": "https://localhost:8080/"
        },
        "id": "4cE9dm2_wTmq",
        "outputId": "08491550-f51f-491e-9c40-31d00e64f271"
      },
      "source": [
        "# one-vs-one classifier with C=0.125 and normalized feature vectors\n",
        "from sklearn.multiclass import OneVsOneClassifier\n",
        "from sklearn.svm import LinearSVC\n",
        "ovo1 = OneVsOneClassifier((LinearSVC(random_state=0, C=0.125)).fit(X_train_norm, y_train), n_jobs=6) #n-job = 6 pairs between 4 classes\n",
        "\n",
        "modelovo1 = ovo1.fit(X_train_norm, y_train)\n",
        "y_test_pred = modelovo1.predict(X_test_norm)\n",
        "from sklearn.metrics import accuracy_score, confusion_matrix \n",
        "print(accuracy_score(y_test, y_test_pred))\n",
        "print(confusion_matrix(y_test, y_test_pred)) #confusion matrix with all 4 classes, all the off-diagonal values are misclassifications\n",
        "print(y_test_pred)"
      ],
      "execution_count": null,
      "outputs": [
        {
          "output_type": "stream",
          "text": [
            "0.8875\n",
            "[[530  20  13  37]\n",
            " [ 18 519  15  48]\n",
            " [ 21  15 539  25]\n",
            " [ 11  26  21 542]]\n",
            "[1. 1. 1. ... 4. 4. 4.]\n"
          ],
          "name": "stdout"
        }
      ]
    },
    {
      "cell_type": "markdown",
      "metadata": {
        "id": "i8DdveuV4FEi"
      },
      "source": [
        "### Comparing accuracies of one-vs-one and one-vs-all multiclass classifiers with C= 0.125 and normalized feature vectors\n",
        "\n",
        "*   One-vs-all multiclass classifier in part E = 91.2%\n",
        "*   One-vs-one multiclass classifier as seen above = 88.8%\n",
        "\n",
        "We observe that one-vs-one multiclass classifier results in less accuracy or more classification error as compared to one-vs-all multiclass classifier (both with C=0.125 and normalized vectors).\n",
        "\n",
        "## 1-vs-all performs better because it is trained on the entire dataset, assigning labels of class of interest as 1 and -1 as other class labels. Whereas, each binary classifier in 1-vs-1 is trained only on the subset of data. (For example, if one binary classifier is built for class pair 1 and 2, the classifier would only be trained on the data of these two classes). Because of this, 1-vs-1 classifier performs poor than the 1-vs-all classifier which is trained using the entire dataset. \n"
      ]
    }
  ]
}