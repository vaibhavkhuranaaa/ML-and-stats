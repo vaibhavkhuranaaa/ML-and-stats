{
  "nbformat": 4,
  "nbformat_minor": 0,
  "metadata": {
    "colab": {
      "provenance": []
    },
    "kernelspec": {
      "name": "python3",
      "display_name": "Python 3"
    },
    "language_info": {
      "name": "python"
    }
  },
  "cells": [
    {
      "cell_type": "code",
      "execution_count": null,
      "metadata": {
        "id": "Zfao5Ag96dZf"
      },
      "outputs": [],
      "source": [
        "from sklearn.datasets import load_svmlight_file\n",
        "from scipy.sparse import csr_matrix\n",
        "import matplotlib.pyplot as plt\n",
        "import pandas as pd\n",
        "import numpy as nm\n",
        "import collections\n",
        "import csv\n",
        "import re"
      ]
    },
    {
      "cell_type": "code",
      "source": [
        "from google.colab import files\n",
        "uploaded = files.upload()"
      ],
      "metadata": {
        "colab": {
          "base_uri": "https://localhost:8080/",
          "height": 142
        },
        "id": "Q7uPhk8J6m08",
        "outputId": "39fb4c99-4a13-41ae-a2bf-5966f271400d"
      },
      "execution_count": null,
      "outputs": [
        {
          "output_type": "display_data",
          "data": {
            "text/plain": [
              "<IPython.core.display.HTML object>"
            ],
            "text/html": [
              "\n",
              "     <input type=\"file\" id=\"files-c6a8f103-8f15-4abe-a2b8-dba390e5bc0e\" name=\"files[]\" multiple disabled\n",
              "        style=\"border:none\" />\n",
              "     <output id=\"result-c6a8f103-8f15-4abe-a2b8-dba390e5bc0e\">\n",
              "      Upload widget is only available when the cell has been executed in the\n",
              "      current browser session. Please rerun this cell to enable.\n",
              "      </output>\n",
              "      <script>// Copyright 2017 Google LLC\n",
              "//\n",
              "// Licensed under the Apache License, Version 2.0 (the \"License\");\n",
              "// you may not use this file except in compliance with the License.\n",
              "// You may obtain a copy of the License at\n",
              "//\n",
              "//      http://www.apache.org/licenses/LICENSE-2.0\n",
              "//\n",
              "// Unless required by applicable law or agreed to in writing, software\n",
              "// distributed under the License is distributed on an \"AS IS\" BASIS,\n",
              "// WITHOUT WARRANTIES OR CONDITIONS OF ANY KIND, either express or implied.\n",
              "// See the License for the specific language governing permissions and\n",
              "// limitations under the License.\n",
              "\n",
              "/**\n",
              " * @fileoverview Helpers for google.colab Python module.\n",
              " */\n",
              "(function(scope) {\n",
              "function span(text, styleAttributes = {}) {\n",
              "  const element = document.createElement('span');\n",
              "  element.textContent = text;\n",
              "  for (const key of Object.keys(styleAttributes)) {\n",
              "    element.style[key] = styleAttributes[key];\n",
              "  }\n",
              "  return element;\n",
              "}\n",
              "\n",
              "// Max number of bytes which will be uploaded at a time.\n",
              "const MAX_PAYLOAD_SIZE = 100 * 1024;\n",
              "\n",
              "function _uploadFiles(inputId, outputId) {\n",
              "  const steps = uploadFilesStep(inputId, outputId);\n",
              "  const outputElement = document.getElementById(outputId);\n",
              "  // Cache steps on the outputElement to make it available for the next call\n",
              "  // to uploadFilesContinue from Python.\n",
              "  outputElement.steps = steps;\n",
              "\n",
              "  return _uploadFilesContinue(outputId);\n",
              "}\n",
              "\n",
              "// This is roughly an async generator (not supported in the browser yet),\n",
              "// where there are multiple asynchronous steps and the Python side is going\n",
              "// to poll for completion of each step.\n",
              "// This uses a Promise to block the python side on completion of each step,\n",
              "// then passes the result of the previous step as the input to the next step.\n",
              "function _uploadFilesContinue(outputId) {\n",
              "  const outputElement = document.getElementById(outputId);\n",
              "  const steps = outputElement.steps;\n",
              "\n",
              "  const next = steps.next(outputElement.lastPromiseValue);\n",
              "  return Promise.resolve(next.value.promise).then((value) => {\n",
              "    // Cache the last promise value to make it available to the next\n",
              "    // step of the generator.\n",
              "    outputElement.lastPromiseValue = value;\n",
              "    return next.value.response;\n",
              "  });\n",
              "}\n",
              "\n",
              "/**\n",
              " * Generator function which is called between each async step of the upload\n",
              " * process.\n",
              " * @param {string} inputId Element ID of the input file picker element.\n",
              " * @param {string} outputId Element ID of the output display.\n",
              " * @return {!Iterable<!Object>} Iterable of next steps.\n",
              " */\n",
              "function* uploadFilesStep(inputId, outputId) {\n",
              "  const inputElement = document.getElementById(inputId);\n",
              "  inputElement.disabled = false;\n",
              "\n",
              "  const outputElement = document.getElementById(outputId);\n",
              "  outputElement.innerHTML = '';\n",
              "\n",
              "  const pickedPromise = new Promise((resolve) => {\n",
              "    inputElement.addEventListener('change', (e) => {\n",
              "      resolve(e.target.files);\n",
              "    });\n",
              "  });\n",
              "\n",
              "  const cancel = document.createElement('button');\n",
              "  inputElement.parentElement.appendChild(cancel);\n",
              "  cancel.textContent = 'Cancel upload';\n",
              "  const cancelPromise = new Promise((resolve) => {\n",
              "    cancel.onclick = () => {\n",
              "      resolve(null);\n",
              "    };\n",
              "  });\n",
              "\n",
              "  // Wait for the user to pick the files.\n",
              "  const files = yield {\n",
              "    promise: Promise.race([pickedPromise, cancelPromise]),\n",
              "    response: {\n",
              "      action: 'starting',\n",
              "    }\n",
              "  };\n",
              "\n",
              "  cancel.remove();\n",
              "\n",
              "  // Disable the input element since further picks are not allowed.\n",
              "  inputElement.disabled = true;\n",
              "\n",
              "  if (!files) {\n",
              "    return {\n",
              "      response: {\n",
              "        action: 'complete',\n",
              "      }\n",
              "    };\n",
              "  }\n",
              "\n",
              "  for (const file of files) {\n",
              "    const li = document.createElement('li');\n",
              "    li.append(span(file.name, {fontWeight: 'bold'}));\n",
              "    li.append(span(\n",
              "        `(${file.type || 'n/a'}) - ${file.size} bytes, ` +\n",
              "        `last modified: ${\n",
              "            file.lastModifiedDate ? file.lastModifiedDate.toLocaleDateString() :\n",
              "                                    'n/a'} - `));\n",
              "    const percent = span('0% done');\n",
              "    li.appendChild(percent);\n",
              "\n",
              "    outputElement.appendChild(li);\n",
              "\n",
              "    const fileDataPromise = new Promise((resolve) => {\n",
              "      const reader = new FileReader();\n",
              "      reader.onload = (e) => {\n",
              "        resolve(e.target.result);\n",
              "      };\n",
              "      reader.readAsArrayBuffer(file);\n",
              "    });\n",
              "    // Wait for the data to be ready.\n",
              "    let fileData = yield {\n",
              "      promise: fileDataPromise,\n",
              "      response: {\n",
              "        action: 'continue',\n",
              "      }\n",
              "    };\n",
              "\n",
              "    // Use a chunked sending to avoid message size limits. See b/62115660.\n",
              "    let position = 0;\n",
              "    do {\n",
              "      const length = Math.min(fileData.byteLength - position, MAX_PAYLOAD_SIZE);\n",
              "      const chunk = new Uint8Array(fileData, position, length);\n",
              "      position += length;\n",
              "\n",
              "      const base64 = btoa(String.fromCharCode.apply(null, chunk));\n",
              "      yield {\n",
              "        response: {\n",
              "          action: 'append',\n",
              "          file: file.name,\n",
              "          data: base64,\n",
              "        },\n",
              "      };\n",
              "\n",
              "      let percentDone = fileData.byteLength === 0 ?\n",
              "          100 :\n",
              "          Math.round((position / fileData.byteLength) * 100);\n",
              "      percent.textContent = `${percentDone}% done`;\n",
              "\n",
              "    } while (position < fileData.byteLength);\n",
              "  }\n",
              "\n",
              "  // All done.\n",
              "  yield {\n",
              "    response: {\n",
              "      action: 'complete',\n",
              "    }\n",
              "  };\n",
              "}\n",
              "\n",
              "scope.google = scope.google || {};\n",
              "scope.google.colab = scope.google.colab || {};\n",
              "scope.google.colab._files = {\n",
              "  _uploadFiles,\n",
              "  _uploadFilesContinue,\n",
              "};\n",
              "})(self);\n",
              "</script> "
            ]
          },
          "metadata": {}
        },
        {
          "output_type": "stream",
          "name": "stdout",
          "text": [
            "Saving word.map to word.map\n",
            "Saving articles.test to articles.test\n",
            "Saving articles.train to articles.train\n"
          ]
        }
      ]
    },
    {
      "cell_type": "markdown",
      "source": [
        "#Loading Train and Test data"
      ],
      "metadata": {
        "id": "yffj_7Lh7dq1"
      }
    },
    {
      "cell_type": "code",
      "source": [
        "# Load training data\n",
        "X_train_data, y_train_data = load_svmlight_file(\"articles.train\")\n",
        "\n",
        "# Load test data\n",
        "X_test_data, y_test_data= load_svmlight_file(\"articles.test\")\n",
        "\n",
        "# Load word mapping\n",
        "words = pd.read_csv(\"words.map.txt\", header=None, names=[\"Word\"])\n",
        "\n",
        "# Checking the number of features (columns/words) and number of articles (rows) in each dataset\n",
        "no_features = X_train_data.shape[1]\n",
        "no_train_articles = X_train_data.shape[0]\n",
        "no_test_articles = X_test_data.shape[0]\n",
        "\n",
        "print(\"Number of features:\", no_features)\n",
        "print(\"Number of articles in training data:\", no_train_articles)\n",
        "print(\"Number of articles in test data:\", no_test_articles)\n",
        "print(\"Number of unique words:\", len(words))\n",
        "\n",
        "\n"
      ],
      "metadata": {
        "colab": {
          "base_uri": "https://localhost:8080/",
          "height": 390
        },
        "id": "rB83GM0z6qPk",
        "outputId": "188871f3-46ea-4ed4-e23c-7c94cc8bbc23"
      },
      "execution_count": null,
      "outputs": [
        {
          "output_type": "error",
          "ename": "FileNotFoundError",
          "evalue": "ignored",
          "traceback": [
            "\u001b[0;31m---------------------------------------------------------------------------\u001b[0m",
            "\u001b[0;31mFileNotFoundError\u001b[0m                         Traceback (most recent call last)",
            "\u001b[0;32m<ipython-input-10-d56d61e5103c>\u001b[0m in \u001b[0;36m<cell line: 8>\u001b[0;34m()\u001b[0m\n\u001b[1;32m      6\u001b[0m \u001b[0;34m\u001b[0m\u001b[0m\n\u001b[1;32m      7\u001b[0m \u001b[0;31m# Load word mapping\u001b[0m\u001b[0;34m\u001b[0m\u001b[0;34m\u001b[0m\u001b[0m\n\u001b[0;32m----> 8\u001b[0;31m \u001b[0mwords\u001b[0m \u001b[0;34m=\u001b[0m \u001b[0mpd\u001b[0m\u001b[0;34m.\u001b[0m\u001b[0mread_csv\u001b[0m\u001b[0;34m(\u001b[0m\u001b[0;34m\"words.map.txt\"\u001b[0m\u001b[0;34m,\u001b[0m \u001b[0mheader\u001b[0m\u001b[0;34m=\u001b[0m\u001b[0;32mNone\u001b[0m\u001b[0;34m,\u001b[0m \u001b[0mnames\u001b[0m\u001b[0;34m=\u001b[0m\u001b[0;34m[\u001b[0m\u001b[0;34m\"Word\"\u001b[0m\u001b[0;34m]\u001b[0m\u001b[0;34m)\u001b[0m\u001b[0;34m\u001b[0m\u001b[0;34m\u001b[0m\u001b[0m\n\u001b[0m\u001b[1;32m      9\u001b[0m \u001b[0;34m\u001b[0m\u001b[0m\n\u001b[1;32m     10\u001b[0m \u001b[0;31m# Checking the number of features (columns/words) and number of articles (rows) in each dataset\u001b[0m\u001b[0;34m\u001b[0m\u001b[0;34m\u001b[0m\u001b[0m\n",
            "\u001b[0;32m/usr/local/lib/python3.10/dist-packages/pandas/util/_decorators.py\u001b[0m in \u001b[0;36mwrapper\u001b[0;34m(*args, **kwargs)\u001b[0m\n\u001b[1;32m    209\u001b[0m                 \u001b[0;32melse\u001b[0m\u001b[0;34m:\u001b[0m\u001b[0;34m\u001b[0m\u001b[0;34m\u001b[0m\u001b[0m\n\u001b[1;32m    210\u001b[0m                     \u001b[0mkwargs\u001b[0m\u001b[0;34m[\u001b[0m\u001b[0mnew_arg_name\u001b[0m\u001b[0;34m]\u001b[0m \u001b[0;34m=\u001b[0m \u001b[0mnew_arg_value\u001b[0m\u001b[0;34m\u001b[0m\u001b[0;34m\u001b[0m\u001b[0m\n\u001b[0;32m--> 211\u001b[0;31m             \u001b[0;32mreturn\u001b[0m \u001b[0mfunc\u001b[0m\u001b[0;34m(\u001b[0m\u001b[0;34m*\u001b[0m\u001b[0margs\u001b[0m\u001b[0;34m,\u001b[0m \u001b[0;34m**\u001b[0m\u001b[0mkwargs\u001b[0m\u001b[0;34m)\u001b[0m\u001b[0;34m\u001b[0m\u001b[0;34m\u001b[0m\u001b[0m\n\u001b[0m\u001b[1;32m    212\u001b[0m \u001b[0;34m\u001b[0m\u001b[0m\n\u001b[1;32m    213\u001b[0m         \u001b[0;32mreturn\u001b[0m \u001b[0mcast\u001b[0m\u001b[0;34m(\u001b[0m\u001b[0mF\u001b[0m\u001b[0;34m,\u001b[0m \u001b[0mwrapper\u001b[0m\u001b[0;34m)\u001b[0m\u001b[0;34m\u001b[0m\u001b[0;34m\u001b[0m\u001b[0m\n",
            "\u001b[0;32m/usr/local/lib/python3.10/dist-packages/pandas/util/_decorators.py\u001b[0m in \u001b[0;36mwrapper\u001b[0;34m(*args, **kwargs)\u001b[0m\n\u001b[1;32m    329\u001b[0m                     \u001b[0mstacklevel\u001b[0m\u001b[0;34m=\u001b[0m\u001b[0mfind_stack_level\u001b[0m\u001b[0;34m(\u001b[0m\u001b[0;34m)\u001b[0m\u001b[0;34m,\u001b[0m\u001b[0;34m\u001b[0m\u001b[0;34m\u001b[0m\u001b[0m\n\u001b[1;32m    330\u001b[0m                 )\n\u001b[0;32m--> 331\u001b[0;31m             \u001b[0;32mreturn\u001b[0m \u001b[0mfunc\u001b[0m\u001b[0;34m(\u001b[0m\u001b[0;34m*\u001b[0m\u001b[0margs\u001b[0m\u001b[0;34m,\u001b[0m \u001b[0;34m**\u001b[0m\u001b[0mkwargs\u001b[0m\u001b[0;34m)\u001b[0m\u001b[0;34m\u001b[0m\u001b[0;34m\u001b[0m\u001b[0m\n\u001b[0m\u001b[1;32m    332\u001b[0m \u001b[0;34m\u001b[0m\u001b[0m\n\u001b[1;32m    333\u001b[0m         \u001b[0;31m# error: \"Callable[[VarArg(Any), KwArg(Any)], Any]\" has no\u001b[0m\u001b[0;34m\u001b[0m\u001b[0;34m\u001b[0m\u001b[0m\n",
            "\u001b[0;32m/usr/local/lib/python3.10/dist-packages/pandas/io/parsers/readers.py\u001b[0m in \u001b[0;36mread_csv\u001b[0;34m(filepath_or_buffer, sep, delimiter, header, names, index_col, usecols, squeeze, prefix, mangle_dupe_cols, dtype, engine, converters, true_values, false_values, skipinitialspace, skiprows, skipfooter, nrows, na_values, keep_default_na, na_filter, verbose, skip_blank_lines, parse_dates, infer_datetime_format, keep_date_col, date_parser, dayfirst, cache_dates, iterator, chunksize, compression, thousands, decimal, lineterminator, quotechar, quoting, doublequote, escapechar, comment, encoding, encoding_errors, dialect, error_bad_lines, warn_bad_lines, on_bad_lines, delim_whitespace, low_memory, memory_map, float_precision, storage_options)\u001b[0m\n\u001b[1;32m    948\u001b[0m     \u001b[0mkwds\u001b[0m\u001b[0;34m.\u001b[0m\u001b[0mupdate\u001b[0m\u001b[0;34m(\u001b[0m\u001b[0mkwds_defaults\u001b[0m\u001b[0;34m)\u001b[0m\u001b[0;34m\u001b[0m\u001b[0;34m\u001b[0m\u001b[0m\n\u001b[1;32m    949\u001b[0m \u001b[0;34m\u001b[0m\u001b[0m\n\u001b[0;32m--> 950\u001b[0;31m     \u001b[0;32mreturn\u001b[0m \u001b[0m_read\u001b[0m\u001b[0;34m(\u001b[0m\u001b[0mfilepath_or_buffer\u001b[0m\u001b[0;34m,\u001b[0m \u001b[0mkwds\u001b[0m\u001b[0;34m)\u001b[0m\u001b[0;34m\u001b[0m\u001b[0;34m\u001b[0m\u001b[0m\n\u001b[0m\u001b[1;32m    951\u001b[0m \u001b[0;34m\u001b[0m\u001b[0m\n\u001b[1;32m    952\u001b[0m \u001b[0;34m\u001b[0m\u001b[0m\n",
            "\u001b[0;32m/usr/local/lib/python3.10/dist-packages/pandas/io/parsers/readers.py\u001b[0m in \u001b[0;36m_read\u001b[0;34m(filepath_or_buffer, kwds)\u001b[0m\n\u001b[1;32m    603\u001b[0m \u001b[0;34m\u001b[0m\u001b[0m\n\u001b[1;32m    604\u001b[0m     \u001b[0;31m# Create the parser.\u001b[0m\u001b[0;34m\u001b[0m\u001b[0;34m\u001b[0m\u001b[0m\n\u001b[0;32m--> 605\u001b[0;31m     \u001b[0mparser\u001b[0m \u001b[0;34m=\u001b[0m \u001b[0mTextFileReader\u001b[0m\u001b[0;34m(\u001b[0m\u001b[0mfilepath_or_buffer\u001b[0m\u001b[0;34m,\u001b[0m \u001b[0;34m**\u001b[0m\u001b[0mkwds\u001b[0m\u001b[0;34m)\u001b[0m\u001b[0;34m\u001b[0m\u001b[0;34m\u001b[0m\u001b[0m\n\u001b[0m\u001b[1;32m    606\u001b[0m \u001b[0;34m\u001b[0m\u001b[0m\n\u001b[1;32m    607\u001b[0m     \u001b[0;32mif\u001b[0m \u001b[0mchunksize\u001b[0m \u001b[0;32mor\u001b[0m \u001b[0miterator\u001b[0m\u001b[0;34m:\u001b[0m\u001b[0;34m\u001b[0m\u001b[0;34m\u001b[0m\u001b[0m\n",
            "\u001b[0;32m/usr/local/lib/python3.10/dist-packages/pandas/io/parsers/readers.py\u001b[0m in \u001b[0;36m__init__\u001b[0;34m(self, f, engine, **kwds)\u001b[0m\n\u001b[1;32m   1440\u001b[0m \u001b[0;34m\u001b[0m\u001b[0m\n\u001b[1;32m   1441\u001b[0m         \u001b[0mself\u001b[0m\u001b[0;34m.\u001b[0m\u001b[0mhandles\u001b[0m\u001b[0;34m:\u001b[0m \u001b[0mIOHandles\u001b[0m \u001b[0;34m|\u001b[0m \u001b[0;32mNone\u001b[0m \u001b[0;34m=\u001b[0m \u001b[0;32mNone\u001b[0m\u001b[0;34m\u001b[0m\u001b[0;34m\u001b[0m\u001b[0m\n\u001b[0;32m-> 1442\u001b[0;31m         \u001b[0mself\u001b[0m\u001b[0;34m.\u001b[0m\u001b[0m_engine\u001b[0m \u001b[0;34m=\u001b[0m \u001b[0mself\u001b[0m\u001b[0;34m.\u001b[0m\u001b[0m_make_engine\u001b[0m\u001b[0;34m(\u001b[0m\u001b[0mf\u001b[0m\u001b[0;34m,\u001b[0m \u001b[0mself\u001b[0m\u001b[0;34m.\u001b[0m\u001b[0mengine\u001b[0m\u001b[0;34m)\u001b[0m\u001b[0;34m\u001b[0m\u001b[0;34m\u001b[0m\u001b[0m\n\u001b[0m\u001b[1;32m   1443\u001b[0m \u001b[0;34m\u001b[0m\u001b[0m\n\u001b[1;32m   1444\u001b[0m     \u001b[0;32mdef\u001b[0m \u001b[0mclose\u001b[0m\u001b[0;34m(\u001b[0m\u001b[0mself\u001b[0m\u001b[0;34m)\u001b[0m \u001b[0;34m->\u001b[0m \u001b[0;32mNone\u001b[0m\u001b[0;34m:\u001b[0m\u001b[0;34m\u001b[0m\u001b[0;34m\u001b[0m\u001b[0m\n",
            "\u001b[0;32m/usr/local/lib/python3.10/dist-packages/pandas/io/parsers/readers.py\u001b[0m in \u001b[0;36m_make_engine\u001b[0;34m(self, f, engine)\u001b[0m\n\u001b[1;32m   1733\u001b[0m                 \u001b[0;32mif\u001b[0m \u001b[0;34m\"b\"\u001b[0m \u001b[0;32mnot\u001b[0m \u001b[0;32min\u001b[0m \u001b[0mmode\u001b[0m\u001b[0;34m:\u001b[0m\u001b[0;34m\u001b[0m\u001b[0;34m\u001b[0m\u001b[0m\n\u001b[1;32m   1734\u001b[0m                     \u001b[0mmode\u001b[0m \u001b[0;34m+=\u001b[0m \u001b[0;34m\"b\"\u001b[0m\u001b[0;34m\u001b[0m\u001b[0;34m\u001b[0m\u001b[0m\n\u001b[0;32m-> 1735\u001b[0;31m             self.handles = get_handle(\n\u001b[0m\u001b[1;32m   1736\u001b[0m                 \u001b[0mf\u001b[0m\u001b[0;34m,\u001b[0m\u001b[0;34m\u001b[0m\u001b[0;34m\u001b[0m\u001b[0m\n\u001b[1;32m   1737\u001b[0m                 \u001b[0mmode\u001b[0m\u001b[0;34m,\u001b[0m\u001b[0;34m\u001b[0m\u001b[0;34m\u001b[0m\u001b[0m\n",
            "\u001b[0;32m/usr/local/lib/python3.10/dist-packages/pandas/io/common.py\u001b[0m in \u001b[0;36mget_handle\u001b[0;34m(path_or_buf, mode, encoding, compression, memory_map, is_text, errors, storage_options)\u001b[0m\n\u001b[1;32m    854\u001b[0m         \u001b[0;32mif\u001b[0m \u001b[0mioargs\u001b[0m\u001b[0;34m.\u001b[0m\u001b[0mencoding\u001b[0m \u001b[0;32mand\u001b[0m \u001b[0;34m\"b\"\u001b[0m \u001b[0;32mnot\u001b[0m \u001b[0;32min\u001b[0m \u001b[0mioargs\u001b[0m\u001b[0;34m.\u001b[0m\u001b[0mmode\u001b[0m\u001b[0;34m:\u001b[0m\u001b[0;34m\u001b[0m\u001b[0;34m\u001b[0m\u001b[0m\n\u001b[1;32m    855\u001b[0m             \u001b[0;31m# Encoding\u001b[0m\u001b[0;34m\u001b[0m\u001b[0;34m\u001b[0m\u001b[0m\n\u001b[0;32m--> 856\u001b[0;31m             handle = open(\n\u001b[0m\u001b[1;32m    857\u001b[0m                 \u001b[0mhandle\u001b[0m\u001b[0;34m,\u001b[0m\u001b[0;34m\u001b[0m\u001b[0;34m\u001b[0m\u001b[0m\n\u001b[1;32m    858\u001b[0m                 \u001b[0mioargs\u001b[0m\u001b[0;34m.\u001b[0m\u001b[0mmode\u001b[0m\u001b[0;34m,\u001b[0m\u001b[0;34m\u001b[0m\u001b[0;34m\u001b[0m\u001b[0m\n",
            "\u001b[0;31mFileNotFoundError\u001b[0m: [Errno 2] No such file or directory: 'words.map.txt'"
          ]
        }
      ]
    },
    {
      "cell_type": "markdown",
      "source": [
        "#Resizing train and test data"
      ],
      "metadata": {
        "id": "WKZaJYbB7l0H"
      }
    },
    {
      "cell_type": "code",
      "source": [
        "X_train_data.resize((X_train_data.shape[0], words.shape[0]))\n",
        "X_test_data.resize((X_test_data.shape[0], words.shape[0]))\n",
        "\n",
        "# confirming the no. of columns in all three datasets after resizing\n",
        "print(words.shape)\n",
        "print(X_train_data.shape)\n",
        "print(X_test_data.shape)\n"
      ],
      "metadata": {
        "colab": {
          "base_uri": "https://localhost:8080/"
        },
        "id": "zbZhkk1A6tSF",
        "outputId": "e2cc4697-518e-4e1e-b5b2-7a3579cd11d4"
      },
      "execution_count": null,
      "outputs": [
        {
          "output_type": "stream",
          "name": "stdout",
          "text": [
            "(61188, 1)\n",
            "(4000, 61188)\n",
            "(2400, 61188)\n"
          ]
        }
      ]
    },
    {
      "cell_type": "code",
      "source": [
        "from sklearn.svm import SVC\n",
        "import numpy as np\n",
        "\n",
        "def new_label_y(arr, true_class):\n",
        "        new_arr = np.where(arr == true_class, 1, -1)\n",
        "        return new_arr\n",
        "\n",
        "def train_SVM(x_data, y_data, true_class, C=None, kernel='linear'):\n",
        "  y_new = new_label_y(y_data, true_class)\n",
        "  if C is None:\n",
        "        model = SVC(kernel=kernel, C=1e10)\n",
        "  else:\n",
        "        model = SVC(kernel=kernel, C=C)\n",
        "  model.fit(x_data, y_new)\n",
        "  return model\n"
      ],
      "metadata": {
        "id": "LTelVlYU7sr5"
      },
      "execution_count": null,
      "outputs": []
    },
    {
      "cell_type": "markdown",
      "source": [
        "#Class 1 vs all other hard margin classifiers"
      ],
      "metadata": {
        "id": "KL6NrhIQ8stg"
      }
    },
    {
      "cell_type": "code",
      "source": [
        "from sklearn.metrics import accuracy_score, confusion_matrix\n",
        "\n",
        "# Train SVM classifier\n",
        "SVM1 = train_SVM(X_train_data, y_train_data, true_class=1.0, C=None)\n",
        "\n",
        "# Predict on test data\n",
        "y_test_pred = SVM1.predict(X_test_data)\n",
        "\n",
        "# Change labels for evaluation\n",
        "ytest_new = new_label_y(y_test_data, true_class=1.0)\n",
        "\n",
        "# Calculate accuracy\n",
        "accuracy = accuracy_score(ytest_new, y_test_pred)\n",
        "print(\"Accuracy:\", accuracy)\n",
        "\n",
        "# Calculate confusion matrix\n",
        "confusion_mat = confusion_matrix(ytest_new, y_test_pred)\n",
        "print(\"Confusion Matrix:\")\n",
        "print(confusion_mat)\n",
        "\n",
        "# Print predicted labels\n",
        "print(\"Predicted Labels:\")\n",
        "print(y_test_pred)"
      ],
      "metadata": {
        "colab": {
          "base_uri": "https://localhost:8080/"
        },
        "id": "UYA3KNX38EKe",
        "outputId": "4cd75ae5-3493-49fa-f17a-5b55dcfb974a"
      },
      "execution_count": null,
      "outputs": [
        {
          "output_type": "stream",
          "name": "stdout",
          "text": [
            "Accuracy: 0.9579166666666666\n",
            "Confusion Matrix:\n",
            "[[1783   17]\n",
            " [  84  516]]\n",
            "Predicted Labels:\n",
            "[ 1  1  1 ... -1 -1 -1]\n"
          ]
        }
      ]
    },
    {
      "cell_type": "markdown",
      "source": [
        "#Class 2 vs all other hard margin classifiers"
      ],
      "metadata": {
        "id": "UX7VcJJ68xHA"
      }
    },
    {
      "cell_type": "code",
      "source": [
        "from sklearn.metrics import accuracy_score, confusion_matrix\n",
        "\n",
        "# Train SVM classifier\n",
        "SVM1 = train_SVM(X_train_data, y_train_data, true_class=2.0, C=None)\n",
        "\n",
        "# Predict on test data\n",
        "y_test_pred = SVM1.predict(X_test_data)\n",
        "\n",
        "# Change labels for evaluation\n",
        "ytest_new = new_label_y(y_test_data, true_class=2.0)\n",
        "\n",
        "# Calculate accuracy\n",
        "accuracy = accuracy_score(ytest_new, y_test_pred)\n",
        "print(\"Accuracy:\", accuracy)\n",
        "\n",
        "# Calculate confusion matrix\n",
        "confusion_mat = confusion_matrix(ytest_new, y_test_pred)\n",
        "print(\"Confusion Matrix:\")\n",
        "print(confusion_mat)\n",
        "\n",
        "# Print predicted labels\n",
        "print(\"Predicted Labels:\")\n",
        "print(y_test_pred)"
      ],
      "metadata": {
        "colab": {
          "base_uri": "https://localhost:8080/"
        },
        "id": "CZZiiRQk8N9V",
        "outputId": "53709b67-f4da-4b11-cbd9-c09161a24df7"
      },
      "execution_count": null,
      "outputs": [
        {
          "output_type": "stream",
          "name": "stdout",
          "text": [
            "Accuracy: 0.9341666666666667\n",
            "Confusion Matrix:\n",
            "[[1741   59]\n",
            " [  99  501]]\n",
            "Predicted Labels:\n",
            "[-1 -1 -1 ... -1 -1 -1]\n"
          ]
        }
      ]
    },
    {
      "cell_type": "markdown",
      "source": [
        "#Class 3 vs all other hard margin classifiers"
      ],
      "metadata": {
        "id": "fbsmVlrZ8z4E"
      }
    },
    {
      "cell_type": "code",
      "source": [
        "from sklearn.metrics import accuracy_score, confusion_matrix\n",
        "\n",
        "# Train SVM classifier\n",
        "SVM1 = train_SVM(X_train_data, y_train_data, true_class=3.0, C=None)\n",
        "\n",
        "# Predict on test data\n",
        "y_test_pred = SVM1.predict(X_test_data)\n",
        "\n",
        "# Change labels for evaluation\n",
        "ytest_new = new_label_y(y_test_data, true_class=3.0)\n",
        "\n",
        "# Calculate accuracy\n",
        "accuracy = accuracy_score(ytest_new, y_test_pred)\n",
        "print(\"Accuracy:\", accuracy)\n",
        "\n",
        "# Calculate confusion matrix\n",
        "confusion_mat = confusion_matrix(ytest_new, y_test_pred)\n",
        "print(\"Confusion Matrix:\")\n",
        "print(confusion_mat)\n",
        "\n",
        "# Print predicted labels\n",
        "print(\"Predicted Labels:\")\n",
        "print(y_test_pred)"
      ],
      "metadata": {
        "colab": {
          "base_uri": "https://localhost:8080/"
        },
        "id": "moa9WNip8TE2",
        "outputId": "e3fae74e-5198-401f-a586-37717394336d"
      },
      "execution_count": null,
      "outputs": [
        {
          "output_type": "stream",
          "name": "stdout",
          "text": [
            "Accuracy: 0.9491666666666667\n",
            "Confusion Matrix:\n",
            "[[1754   46]\n",
            " [  76  524]]\n",
            "Predicted Labels:\n",
            "[-1 -1 -1 ... -1 -1 -1]\n"
          ]
        }
      ]
    },
    {
      "cell_type": "markdown",
      "source": [
        "#Class 4 vs all other hard margin classifiers"
      ],
      "metadata": {
        "id": "QntvhiDH817T"
      }
    },
    {
      "cell_type": "code",
      "source": [
        "from sklearn.metrics import accuracy_score, confusion_matrix\n",
        "\n",
        "# Train SVM classifier\n",
        "SVM1 = train_SVM(X_train_data, y_train_data, true_class=4.0, C=None)\n",
        "\n",
        "# Predict on test data\n",
        "y_test_pred = SVM1.predict(X_test_data)\n",
        "\n",
        "# Change labels for evaluation\n",
        "ytest_new = new_label_y(y_test_data, true_class=4.0)\n",
        "\n",
        "# Calculate accuracy\n",
        "accuracy = accuracy_score(ytest_new, y_test_pred)\n",
        "print(\"Accuracy:\", accuracy)\n",
        "\n",
        "# Calculate confusion matrix\n",
        "confusion_mat = confusion_matrix(ytest_new, y_test_pred)\n",
        "print(\"Confusion Matrix:\")\n",
        "print(confusion_mat)\n",
        "\n",
        "# Print predicted labels\n",
        "print(\"Predicted Labels:\")\n",
        "print(y_test_pred)"
      ],
      "metadata": {
        "colab": {
          "base_uri": "https://localhost:8080/"
        },
        "id": "ljZcSoY68YiL",
        "outputId": "04e9c2c0-d9ba-4015-f791-c1297cd6dd1d"
      },
      "execution_count": null,
      "outputs": [
        {
          "output_type": "stream",
          "name": "stdout",
          "text": [
            "Accuracy: 0.9408333333333333\n",
            "Confusion Matrix:\n",
            "[[1746   54]\n",
            " [  88  512]]\n",
            "Predicted Labels:\n",
            "[-1 -1 -1 ...  1  1  1]\n"
          ]
        }
      ]
    },
    {
      "cell_type": "markdown",
      "source": [
        "#One VS Rest Classifier"
      ],
      "metadata": {
        "id": "9KP4YKC787ss"
      }
    },
    {
      "cell_type": "code",
      "source": [
        "from sklearn.multiclass import OneVsRestClassifier\n",
        "from sklearn.svm import LinearSVC\n",
        "from sklearn.metrics import accuracy_score, confusion_matrix\n",
        "\n",
        "# Fit One-vs-Rest classifier\n",
        "ovr1 = OneVsRestClassifier(LinearSVC(random_state=0, C=1e10), n_jobs=4)\n",
        "ovr1.fit(X_train_data, y_train_data)\n",
        "\n",
        "# Predict on test data\n",
        "y_test_pred = ovr1.predict(X_test_data)\n",
        "\n",
        "# Calculate accuracy\n",
        "accuracy = accuracy_score(y_test_data, y_test_pred)\n",
        "print(\"Accuracy:\", accuracy)\n",
        "\n",
        "# Calculate confusion matrix\n",
        "confusion_mat = confusion_matrix(y_test_data, y_test_pred)\n",
        "print(\"Confusion Matrix:\")\n",
        "print(confusion_mat)\n",
        "\n",
        "# Print predicted labels\n",
        "print(\"Predicted Labels:\")\n",
        "print(y_test_pred)\n"
      ],
      "metadata": {
        "colab": {
          "base_uri": "https://localhost:8080/"
        },
        "id": "3HHKy7MO8d-b",
        "outputId": "7d2791fa-6252-4810-d99d-83a33fc1608d"
      },
      "execution_count": null,
      "outputs": [
        {
          "output_type": "stream",
          "name": "stdout",
          "text": [
            "Accuracy: 0.90375\n",
            "Confusion Matrix:\n",
            "[[536  27  10  27]\n",
            " [ 17 539  17  27]\n",
            " [  9  24 549  18]\n",
            " [ 10  24  21 545]]\n",
            "Predicted Labels:\n",
            "[1. 1. 1. ... 4. 4. 4.]\n"
          ]
        }
      ]
    },
    {
      "cell_type": "markdown",
      "source": [
        "#c."
      ],
      "metadata": {
        "id": "aj5NrHgEGww8"
      }
    },
    {
      "cell_type": "code",
      "source": [
        "from sklearn.model_selection import train_test_split\n",
        "from sklearn.metrics import accuracy_score\n",
        "\n",
        "# Splitting the training data into train (75%) and validation (25%) sets\n",
        "X_train_p, X_val, y_train_p, y_val = train_test_split(X_train_data, y_train_data, test_size=0.25)\n",
        "\n",
        "# Array (-3, -2, -1,....,10) for C values which are (2^-3, 2^-2,....,2^10)\n",
        "pwr = np.arange(-3, 11)\n",
        "\n",
        "# Initialize arrays to store misclassification errors\n",
        "err1 = []\n",
        "err2 = []\n",
        "err3 = []\n",
        "err4 = []\n",
        "cumerr = []\n",
        "trainerr1 = []\n",
        "trainerr2 = []\n",
        "trainerr3 = []\n",
        "trainerr4 = []\n",
        "\n",
        "for i in pwr:\n",
        "    C = 2.0 ** i\n",
        "\n",
        "    # Training SVM models for each binary classifier\n",
        "    SVM_SM1 = train_SVM(X_train_p, y_train_p, true_class=1.0, C=C)\n",
        "    error1 = 1 - accuracy_score(new_label_y(y_val, true_class=1.0), SVM_SM1.predict(X_val))\n",
        "    err1.append(error1)\n",
        "    trainerr1.append(1 - SVM_SM1.score(X_train_p, new_label_y(y_train_p, true_class=1.0)))\n",
        "\n",
        "    SVM_SM2 = train_SVM(X_train_p, y_train_p, true_class=2.0, C=C)\n",
        "    error2 = 1 - accuracy_score(new_label_y(y_val, true_class=2.0), SVM_SM2.predict(X_val))\n",
        "    err2.append(error2)\n",
        "    trainerr2.append(1 - SVM_SM2.score(X_train_p, new_label_y(y_train_p, true_class=2.0)))\n",
        "\n",
        "    SVM_SM3 = train_SVM(X_train_p, y_train_p, true_class=3.0, C=C)\n",
        "    error3 = 1 - accuracy_score(new_label_y(y_val, true_class=3.0), SVM_SM3.predict(X_val))\n",
        "    err3.append(error3)\n",
        "    trainerr3.append(1 - SVM_SM3.score(X_train_p, new_label_y(y_train_p, true_class=3.0)))\n",
        "\n",
        "    SVM_SM4 = train_SVM(X_train_p, y_train_p, true_class=4.0, C=C)\n",
        "    error4 = 1 - accuracy_score(new_label_y(y_val, true_class=4.0), SVM_SM4.predict(X_val))\n",
        "    err4.append(error4)\n",
        "    trainerr4.append(1 - SVM_SM4.score(X_train_p, new_label_y(y_train_p, true_class=4.0)))\n",
        "\n",
        "    # Calculate overall average misclassification error\n",
        "    cumerr.append((error1 + error2 + error3 + error4) / 4)\n",
        "    print(\"Overall misclassification error for C =\", C, \":\", (error1 + error2 + error3 + error4) / 4)\n"
      ],
      "metadata": {
        "colab": {
          "base_uri": "https://localhost:8080/"
        },
        "id": "gLsls7r49Bvo",
        "outputId": "9ac78222-04da-440e-d942-a2bdd316e8b5"
      },
      "execution_count": null,
      "outputs": [
        {
          "output_type": "stream",
          "name": "stdout",
          "text": [
            "Overall misclassification error for C = 0.125 : 0.03700000000000003\n",
            "Overall misclassification error for C = 0.25 : 0.03725000000000003\n",
            "Overall misclassification error for C = 0.5 : 0.037750000000000034\n",
            "Overall misclassification error for C = 1.0 : 0.040750000000000036\n",
            "Overall misclassification error for C = 2.0 : 0.04275000000000004\n",
            "Overall misclassification error for C = 4.0 : 0.04275000000000004\n",
            "Overall misclassification error for C = 8.0 : 0.04275000000000004\n",
            "Overall misclassification error for C = 16.0 : 0.04275000000000004\n",
            "Overall misclassification error for C = 32.0 : 0.04275000000000004\n",
            "Overall misclassification error for C = 64.0 : 0.04275000000000004\n",
            "Overall misclassification error for C = 128.0 : 0.04275000000000004\n",
            "Overall misclassification error for C = 256.0 : 0.04275000000000004\n",
            "Overall misclassification error for C = 512.0 : 0.04275000000000004\n",
            "Overall misclassification error for C = 1024.0 : 0.04275000000000004\n"
          ]
        }
      ]
    },
    {
      "cell_type": "markdown",
      "source": [
        "#Plotting missclassification errors"
      ],
      "metadata": {
        "id": "EXO6Qvq2G2T-"
      }
    },
    {
      "cell_type": "code",
      "source": [
        "import matplotlib.pyplot as plt\n",
        "\n",
        "fig, errplots = plt.subplots()\n",
        "errplots.plot(pwr, err1, label='tst error classifier 1')      # Test error from the first binary classifier\n",
        "errplots.plot(pwr, err2, label='tst error classifier 2')      # Test error from the second binary classifier\n",
        "errplots.plot(pwr, err3, label='tst error classifier 3')      # Test error from the third binary classifier\n",
        "errplots.plot(pwr, err4, label='tst error classifier 4')      # Test error from the fourth binary classifier\n",
        "errplots.plot(pwr, trainerr1, label='trn error classifier 1') # Training error from the first binary classifier\n",
        "errplots.plot(pwr, trainerr2, label='trn error classifier 2') # Training error from the second binary classifier\n",
        "errplots.plot(pwr, trainerr3, label='trn error classifier 3') # Training error from the third binary classifier\n",
        "errplots.plot(pwr, trainerr4, label='trn error classifier 4') # Training error from the fourth binary classifier\n",
        "errplots.plot(pwr, cumerr, label='overall avg error')         # Average of all 4 classifiers\n",
        "errplots.set_ylabel('Validation error')\n",
        "errplots.set_xlabel('Log2(C)')\n",
        "errplots.legend()\n",
        "errplots.set_title('Validation error vs. Log2(C)')\n",
        "plt.show()\n"
      ],
      "metadata": {
        "colab": {
          "base_uri": "https://localhost:8080/",
          "height": 472
        },
        "id": "zFl03cCv-7G1",
        "outputId": "2cf0400b-fb55-473c-b887-65a9325e2fb6"
      },
      "execution_count": null,
      "outputs": [
        {
          "output_type": "display_data",
          "data": {
            "text/plain": [
              "<Figure size 640x480 with 1 Axes>"
            ],
            "image/png": "[encoded data removed]"
          },
          "metadata": {}
        }
      ]
    },
    {
      "cell_type": "markdown",
      "source": [
        "#d.Comparing accuracies of binary classifier 2 (probably mean 1) vs others"
      ],
      "metadata": {
        "id": "KSBnlPgnHUsg"
      }
    },
    {
      "cell_type": "code",
      "source": [
        "from sklearn.metrics import accuracy_score, confusion_matrix\n",
        "\n",
        "# Training soft margin classifier for class 1 vs classes 2,3,4 with C=0.125\n",
        "SVM_SM_D1 = train_SVM(X_train_data, y_train_data, true_class=1.0, C=0.125)\n",
        "\n",
        "# Predicting labels for the test set\n",
        "y_test_pred = SVM_SM_D1.predict(X_test_data)\n",
        "\n",
        "# Calculating accuracy score and confusion matrix\n",
        "ytest_new = new_label_y(y_test_data, true_class=1.0)\n",
        "accuracy = accuracy_score(ytest_new, y_test_pred)\n",
        "confusion_mat = confusion_matrix(ytest_new, y_test_pred)\n",
        "\n",
        "print(\"Accuracy:\", accuracy)\n",
        "print(\"Confusion Matrix:\")\n",
        "print(confusion_mat)\n",
        "print(\"Predicted Labels:\", y_test_pred)\n"
      ],
      "metadata": {
        "colab": {
          "base_uri": "https://localhost:8080/"
        },
        "id": "bvGTAexD_Kqd",
        "outputId": "8666c337-ba93-4df5-8bfe-e05c51735a32"
      },
      "execution_count": null,
      "outputs": [
        {
          "output_type": "stream",
          "name": "stdout",
          "text": [
            "Accuracy: 0.9616666666666667\n",
            "Confusion Matrix:\n",
            "[[1789   11]\n",
            " [  81  519]]\n",
            "Predicted Labels: [ 1  1  1 ... -1 -1 -1]\n"
          ]
        }
      ]
    },
    {
      "cell_type": "markdown",
      "source": [
        "#Comparing accuracies of binary classifier 2 vs others"
      ],
      "metadata": {
        "id": "KWnbaEvdHnwc"
      }
    },
    {
      "cell_type": "code",
      "source": [
        "from sklearn.metrics import accuracy_score, confusion_matrix\n",
        "\n",
        "# Training soft margin classifier for class 1 vs classes 2,3,4 with C=0.125\n",
        "SVM_SM_D1 = train_SVM(X_train_data, y_train_data, true_class=2.0, C=0.125)\n",
        "\n",
        "# Predicting labels for the test set\n",
        "y_test_pred = SVM_SM_D1.predict(X_test_data)\n",
        "\n",
        "# Calculating accuracy score and confusion matrix\n",
        "ytest_new = new_label_y(y_test_data, true_class=2.0)\n",
        "accuracy = accuracy_score(ytest_new, y_test_pred)\n",
        "confusion_mat = confusion_matrix(ytest_new, y_test_pred)\n",
        "\n",
        "print(\"Accuracy:\", accuracy)\n",
        "print(\"Confusion Matrix:\")\n",
        "print(confusion_mat)\n",
        "print(\"Predicted Labels:\", y_test_pred)\n"
      ],
      "metadata": {
        "colab": {
          "base_uri": "https://localhost:8080/"
        },
        "id": "DIXSuGWG_gmE",
        "outputId": "e2c653bb-73db-4fc6-d9c5-91c66a6fb40e"
      },
      "execution_count": null,
      "outputs": [
        {
          "output_type": "stream",
          "name": "stdout",
          "text": [
            "Accuracy: 0.94625\n",
            "Confusion Matrix:\n",
            "[[1760   40]\n",
            " [  89  511]]\n",
            "Predicted Labels: [-1 -1 -1 ... -1 -1 -1]\n"
          ]
        }
      ]
    },
    {
      "cell_type": "markdown",
      "source": [
        "#Comparing accuracies of binary classifier 3 vs others"
      ],
      "metadata": {
        "id": "lYDEGas9ITVb"
      }
    },
    {
      "cell_type": "code",
      "source": [
        "from sklearn.metrics import accuracy_score, confusion_matrix\n",
        "\n",
        "# Training soft margin classifier for class 1 vs classes 2,3,4 with C=0.125\n",
        "SVM_SM_D1 = train_SVM(X_train_data, y_train_data, true_class=3.0, C=0.125)\n",
        "\n",
        "# Predicting labels for the test set\n",
        "y_test_pred = SVM_SM_D1.predict(X_test_data)\n",
        "\n",
        "# Calculating accuracy score and confusion matrix\n",
        "ytest_new = new_label_y(y_test_data, true_class=3.0)\n",
        "accuracy = accuracy_score(ytest_new, y_test_pred)\n",
        "confusion_mat = confusion_matrix(ytest_new, y_test_pred)\n",
        "\n",
        "print(\"Accuracy:\", accuracy)\n",
        "print(\"Confusion Matrix:\")\n",
        "print(confusion_mat)\n",
        "print(\"Predicted Labels:\", y_test_pred)\n"
      ],
      "metadata": {
        "colab": {
          "base_uri": "https://localhost:8080/"
        },
        "id": "FauuDCNu_lBY",
        "outputId": "16318881-1dfe-419c-f149-a4e5e4326810"
      },
      "execution_count": null,
      "outputs": [
        {
          "output_type": "stream",
          "name": "stdout",
          "text": [
            "Accuracy: 0.9654166666666667\n",
            "Confusion Matrix:\n",
            "[[1782   18]\n",
            " [  65  535]]\n",
            "Predicted Labels: [-1 -1 -1 ... -1 -1 -1]\n"
          ]
        }
      ]
    },
    {
      "cell_type": "markdown",
      "source": [
        "#Comparing accuracies of binary classifier 4 vs others"
      ],
      "metadata": {
        "id": "XzILqnVeIpCi"
      }
    },
    {
      "cell_type": "code",
      "source": [
        "from sklearn.metrics import accuracy_score, confusion_matrix\n",
        "\n",
        "# Training soft margin classifier for class 1 vs classes 2,3,4 with C=0.125\n",
        "SVM_SM_D1 = train_SVM(X_train_data, y_train_data, true_class=4.0, C=0.125)\n",
        "\n",
        "# Predicting labels for the test set\n",
        "y_test_pred = SVM_SM_D1.predict(X_test_data)\n",
        "\n",
        "# Calculating accuracy score and confusion matrix\n",
        "ytest_new = new_label_y(y_test_data, true_class=4.0)\n",
        "accuracy = accuracy_score(ytest_new, y_test_pred)\n",
        "confusion_mat = confusion_matrix(ytest_new, y_test_pred)\n",
        "\n",
        "print(\"Accuracy:\", accuracy)\n",
        "print(\"Confusion Matrix:\")\n",
        "print(confusion_mat)\n",
        "print(\"Predicted Labels:\", y_test_pred)\n"
      ],
      "metadata": {
        "colab": {
          "base_uri": "https://localhost:8080/"
        },
        "id": "6g6B-gX5_o33",
        "outputId": "f93e922a-4542-42f9-f6bb-8a37434535c8"
      },
      "execution_count": null,
      "outputs": [
        {
          "output_type": "stream",
          "name": "stdout",
          "text": [
            "Accuracy: 0.9416666666666667\n",
            "Confusion Matrix:\n",
            "[[1749   51]\n",
            " [  89  511]]\n",
            "Predicted Labels: [-1 -1 -1 ...  1  1  1]\n"
          ]
        }
      ]
    },
    {
      "cell_type": "markdown",
      "source": [
        "#e."
      ],
      "metadata": {
        "id": "E-nNhoz0JGdv"
      }
    },
    {
      "cell_type": "code",
      "source": [
        "from sklearn.preprocessing import normalize\n",
        "\n",
        "# Normalizing feature vectors\n",
        "X_train_norm = normalize(X_train_data, norm='l2', axis=1, copy=True, return_norm=False)\n",
        "X_test_norm = normalize(X_test_data, norm='l2', axis=1, copy=True, return_norm=False)\n"
      ],
      "metadata": {
        "id": "duNe9xV5_1Bn"
      },
      "execution_count": null,
      "outputs": []
    },
    {
      "cell_type": "code",
      "source": [
        "from sklearn.metrics import accuracy_score, confusion_matrix\n",
        "\n",
        "# Training soft margin classifier for class 1 vs classes 2,3,4 with C=0.125 with normalized feature vectors\n",
        "SVM_norm1 = train_SVM(X_train_norm, y_train_data, true_class=1.0, C=0.125)\n",
        "\n",
        "# Predicting labels for the test set with normalized feature vectors\n",
        "y_test_pred = SVM_norm1.predict(X_test_norm)\n",
        "\n",
        "# Calculating accuracy score and confusion matrix\n",
        "ytest_new = new_label_y(y_test_data, true_class=1.0)\n",
        "accuracy = accuracy_score(ytest_new, y_test_pred)\n",
        "confusion_mat = confusion_matrix(ytest_new, y_test_pred)\n",
        "\n",
        "print(\"Accuracy:\", accuracy)\n",
        "print(\"Confusion Matrix:\")\n",
        "print(confusion_mat)\n",
        "print(\"Predicted Labels:\", y_test_pred)\n"
      ],
      "metadata": {
        "colab": {
          "base_uri": "https://localhost:8080/"
        },
        "id": "0vKsy7kWAG9L",
        "outputId": "c63c2fde-d376-4b05-d38c-f1ec7ed57a8a"
      },
      "execution_count": null,
      "outputs": [
        {
          "output_type": "stream",
          "name": "stdout",
          "text": [
            "Accuracy: 0.9216666666666666\n",
            "Confusion Matrix:\n",
            "[[1795    5]\n",
            " [ 183  417]]\n",
            "Predicted Labels: [ 1 -1 -1 ... -1 -1 -1]\n"
          ]
        }
      ]
    },
    {
      "cell_type": "code",
      "source": [
        "from sklearn.metrics import accuracy_score, confusion_matrix\n",
        "\n",
        "# Training soft margin classifier for class 1 vs classes 2,3,4 with C=0.125 with normalized feature vectors\n",
        "SVM_norm1 = train_SVM(X_train_norm, y_train_data, true_class=2.0, C=0.125)\n",
        "\n",
        "# Predicting labels for the test set with normalized feature vectors\n",
        "y_test_pred = SVM_norm1.predict(X_test_norm)\n",
        "\n",
        "# Calculating accuracy score and confusion matrix\n",
        "ytest_new = new_label_y(y_test_data, true_class=2.0)\n",
        "accuracy = accuracy_score(ytest_new, y_test_pred)\n",
        "confusion_mat = confusion_matrix(ytest_new, y_test_pred)\n",
        "\n",
        "print(\"Accuracy:\", accuracy)\n",
        "print(\"Confusion Matrix:\")\n",
        "print(confusion_mat)\n",
        "print(\"Predicted Labels:\", y_test_pred)\n"
      ],
      "metadata": {
        "colab": {
          "base_uri": "https://localhost:8080/"
        },
        "id": "98nTDXgMANKj",
        "outputId": "f616587f-f4e2-4b2e-9f94-205eea2742ae"
      },
      "execution_count": null,
      "outputs": [
        {
          "output_type": "stream",
          "name": "stdout",
          "text": [
            "Accuracy: 0.8166666666666667\n",
            "Confusion Matrix:\n",
            "[[1800    0]\n",
            " [ 440  160]]\n",
            "Predicted Labels: [-1 -1 -1 ... -1 -1 -1]\n"
          ]
        }
      ]
    },
    {
      "cell_type": "code",
      "source": [
        "from sklearn.metrics import accuracy_score, confusion_matrix\n",
        "\n",
        "# Training soft margin classifier for class 1 vs classes 2,3,4 with C=0.125 with normalized feature vectors\n",
        "SVM_norm1 = train_SVM(X_train_norm, y_train_data, true_class=3.0, C=0.125)\n",
        "\n",
        "# Predicting labels for the test set with normalized feature vectors\n",
        "y_test_pred = SVM_norm1.predict(X_test_norm)\n",
        "\n",
        "# Calculating accuracy score and confusion matrix\n",
        "ytest_new = new_label_y(y_test_data, true_class=3.0)\n",
        "accuracy = accuracy_score(ytest_new, y_test_pred)\n",
        "confusion_mat = confusion_matrix(ytest_new, y_test_pred)\n",
        "\n",
        "print(\"Accuracy:\", accuracy)\n",
        "print(\"Confusion Matrix:\")\n",
        "print(confusion_mat)\n",
        "print(\"Predicted Labels:\", y_test_pred)\n"
      ],
      "metadata": {
        "colab": {
          "base_uri": "https://localhost:8080/"
        },
        "id": "-cUauJQsAUWF",
        "outputId": "6c4732c8-9595-4813-c257-4666c550811f"
      },
      "execution_count": null,
      "outputs": [
        {
          "output_type": "stream",
          "name": "stdout",
          "text": [
            "Accuracy: 0.8991666666666667\n",
            "Confusion Matrix:\n",
            "[[1795    5]\n",
            " [ 237  363]]\n",
            "Predicted Labels: [-1 -1 -1 ... -1 -1 -1]\n"
          ]
        }
      ]
    },
    {
      "cell_type": "code",
      "source": [
        "from sklearn.metrics import accuracy_score, confusion_matrix\n",
        "\n",
        "# Training soft margin classifier for class 1 vs classes 2,3,4 with C=0.125 with normalized feature vectors\n",
        "SVM_norm1 = train_SVM(X_train_norm, y_train_data, true_class=4.0, C=0.125)\n",
        "\n",
        "# Predicting labels for the test set with normalized feature vectors\n",
        "y_test_pred = SVM_norm1.predict(X_test_norm)\n",
        "\n",
        "# Calculating accuracy score and confusion matrix\n",
        "ytest_new = new_label_y(y_test_data, true_class=4.0)\n",
        "accuracy = accuracy_score(ytest_new, y_test_pred)\n",
        "confusion_mat = confusion_matrix(ytest_new, y_test_pred)\n",
        "\n",
        "print(\"Accuracy:\", accuracy)\n",
        "print(\"Confusion Matrix:\")\n",
        "print(confusion_mat)\n",
        "print(\"Predicted Labels:\", y_test_pred)\n"
      ],
      "metadata": {
        "colab": {
          "base_uri": "https://localhost:8080/"
        },
        "id": "oRAKaN5DAarm",
        "outputId": "c46eb6b6-e567-41a7-c90d-3dcb8b425553"
      },
      "execution_count": null,
      "outputs": [
        {
          "output_type": "stream",
          "name": "stdout",
          "text": [
            "Accuracy: 0.8845833333333334\n",
            "Confusion Matrix:\n",
            "[[1788   12]\n",
            " [ 265  335]]\n",
            "Predicted Labels: [-1 -1 -1 ...  1  1 -1]\n"
          ]
        }
      ]
    },
    {
      "cell_type": "code",
      "source": [
        "from sklearn.multiclass import OneVsRestClassifier\n",
        "from sklearn.svm import LinearSVC\n",
        "from sklearn.metrics import accuracy_score, confusion_matrix\n",
        "\n",
        "# Training a multiclass classifier using One-vs-Rest strategy with normalized feature vectors\n",
        "ovr1 = OneVsRestClassifier(LinearSVC(random_state=0, C=0.125))\n",
        "modelovr1 = ovr1.fit(X_train_norm, y_train_data)\n",
        "\n",
        "# Predicting labels for the test set\n",
        "y_test_pred = modelovr1.predict(X_test_norm)\n",
        "\n",
        "# Calculating accuracy score and confusion matrix\n",
        "accuracy = accuracy_score(y_test_data, y_test_pred)\n",
        "confusion_mat = confusion_matrix(y_test_data, y_test_pred)\n",
        "\n",
        "print(\"Accuracy:\", accuracy)\n",
        "print(\"Confusion Matrix:\")\n",
        "print(confusion_mat)\n",
        "print(\"Predicted Labels:\", y_test_pred)\n"
      ],
      "metadata": {
        "colab": {
          "base_uri": "https://localhost:8080/"
        },
        "id": "aXN_HzGfAhsz",
        "outputId": "a964d0f8-5552-4e07-9621-8ff21913fded"
      },
      "execution_count": null,
      "outputs": [
        {
          "output_type": "stream",
          "name": "stdout",
          "text": [
            "Accuracy: 0.9116666666666666\n",
            "Confusion Matrix:\n",
            "[[546  12  11  31]\n",
            " [ 26 517  13  44]\n",
            " [ 14   7 565  14]\n",
            " [  8  17  15 560]]\n",
            "Predicted Labels: [1. 1. 1. ... 4. 4. 4.]\n"
          ]
        }
      ]
    },
    {
      "cell_type": "markdown",
      "source": [
        "#f."
      ],
      "metadata": {
        "id": "zpM9qy7MKCde"
      }
    },
    {
      "cell_type": "code",
      "source": [
        "from sklearn.multiclass import OneVsOneClassifier\n",
        "from sklearn.svm import LinearSVC\n",
        "from sklearn.metrics import accuracy_score, confusion_matrix\n",
        "\n",
        "# Training a multiclass classifier using One-vs-One strategy with normalized feature vectors\n",
        "ovo1 = OneVsOneClassifier(LinearSVC(random_state=0, C=0.125))\n",
        "modelovo1 = ovo1.fit(X_train_norm, y_train_data)\n",
        "\n",
        "# Predicting labels for the test set\n",
        "y_test_pred = modelovo1.predict(X_test_norm)\n",
        "\n",
        "# Calculating accuracy score and confusion matrix\n",
        "accuracy = accuracy_score(y_test_data, y_test_pred)\n",
        "confusion_mat = confusion_matrix(y_test_data, y_test_pred)\n",
        "\n",
        "print(\"Accuracy:\", accuracy)\n",
        "print(\"Confusion Matrix:\")\n",
        "print(confusion_mat)\n",
        "print(\"Predicted Labels:\", y_test_pred)\n"
      ],
      "metadata": {
        "colab": {
          "base_uri": "https://localhost:8080/"
        },
        "id": "cgVFH2LTAsec",
        "outputId": "c8ea9114-d692-4c28-d8de-ccd324b783a5"
      },
      "execution_count": null,
      "outputs": [
        {
          "output_type": "stream",
          "name": "stdout",
          "text": [
            "Accuracy: 0.8875\n",
            "Confusion Matrix:\n",
            "[[530  20  13  37]\n",
            " [ 18 519  15  48]\n",
            " [ 21  15 539  25]\n",
            " [ 11  26  21 542]]\n",
            "Predicted Labels: [1. 1. 1. ... 4. 4. 4.]\n"
          ]
        }
      ]
    }
  ]
}